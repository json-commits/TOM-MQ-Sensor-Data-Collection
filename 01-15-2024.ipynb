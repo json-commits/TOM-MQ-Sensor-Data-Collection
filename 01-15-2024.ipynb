{
 "cells": [
  {
   "cell_type": "code",
   "execution_count": 10,
   "id": "initial_id",
   "metadata": {
    "collapsed": true,
    "ExecuteTime": {
     "end_time": "2024-01-15T02:37:01.532444100Z",
     "start_time": "2024-01-15T02:36:57.325114500Z"
    }
   },
   "outputs": [
    {
     "data": {
      "text/plain": "   time  value data_label              file_origin sensor_label sensor_number  \\\n0  0.10   27.0    breaker  breaker10_12-11-23.xlsx            A             0   \n1  0.17   27.0    breaker  breaker10_12-11-23.xlsx            A             0   \n2  0.25   27.0    breaker  breaker10_12-11-23.xlsx            A             0   \n3  0.32   27.0    breaker  breaker10_12-11-23.xlsx            A             0   \n4  0.40   27.0    breaker  breaker10_12-11-23.xlsx            A             0   \n\n  date_collected  \n0       12-11-23  \n1       12-11-23  \n2       12-11-23  \n3       12-11-23  \n4       12-11-23  ",
      "text/html": "<div>\n<style scoped>\n    .dataframe tbody tr th:only-of-type {\n        vertical-align: middle;\n    }\n\n    .dataframe tbody tr th {\n        vertical-align: top;\n    }\n\n    .dataframe thead th {\n        text-align: right;\n    }\n</style>\n<table border=\"1\" class=\"dataframe\">\n  <thead>\n    <tr style=\"text-align: right;\">\n      <th></th>\n      <th>time</th>\n      <th>value</th>\n      <th>data_label</th>\n      <th>file_origin</th>\n      <th>sensor_label</th>\n      <th>sensor_number</th>\n      <th>date_collected</th>\n    </tr>\n  </thead>\n  <tbody>\n    <tr>\n      <th>0</th>\n      <td>0.10</td>\n      <td>27.0</td>\n      <td>breaker</td>\n      <td>breaker10_12-11-23.xlsx</td>\n      <td>A</td>\n      <td>0</td>\n      <td>12-11-23</td>\n    </tr>\n    <tr>\n      <th>1</th>\n      <td>0.17</td>\n      <td>27.0</td>\n      <td>breaker</td>\n      <td>breaker10_12-11-23.xlsx</td>\n      <td>A</td>\n      <td>0</td>\n      <td>12-11-23</td>\n    </tr>\n    <tr>\n      <th>2</th>\n      <td>0.25</td>\n      <td>27.0</td>\n      <td>breaker</td>\n      <td>breaker10_12-11-23.xlsx</td>\n      <td>A</td>\n      <td>0</td>\n      <td>12-11-23</td>\n    </tr>\n    <tr>\n      <th>3</th>\n      <td>0.32</td>\n      <td>27.0</td>\n      <td>breaker</td>\n      <td>breaker10_12-11-23.xlsx</td>\n      <td>A</td>\n      <td>0</td>\n      <td>12-11-23</td>\n    </tr>\n    <tr>\n      <th>4</th>\n      <td>0.40</td>\n      <td>27.0</td>\n      <td>breaker</td>\n      <td>breaker10_12-11-23.xlsx</td>\n      <td>A</td>\n      <td>0</td>\n      <td>12-11-23</td>\n    </tr>\n  </tbody>\n</table>\n</div>"
     },
     "execution_count": 10,
     "metadata": {},
     "output_type": "execute_result"
    }
   ],
   "source": [
    "import pandas as pd\n",
    "\n",
    "m_df = pd.read_csv('m_df(12-05-23 to 12-13-23).csv', index_col=0, \n",
    "                   dtype={'time': float, 'value': float, 'data_label': str, \n",
    "                          'file_origin': str, 'sensor_label': str, 'sensor_number': str,\n",
    "                          'date_collected': str})\n",
    "m_df.head()"
   ]
  },
  {
   "cell_type": "code",
   "execution_count": 58,
   "outputs": [
    {
     "data": {
      "text/plain": "<Axes: title={'center': 'value'}, xlabel='data_label'>"
     },
     "execution_count": 58,
     "metadata": {},
     "output_type": "execute_result"
    },
    {
     "data": {
      "text/plain": "<Figure size 640x480 with 1 Axes>",
      "image/png": "[encoded data removed]"
     },
     "metadata": {},
     "output_type": "display_data"
    }
   ],
   "source": [
    "filter_df = m_df[m_df['sensor_label'] == 'A']\n",
    "# filter_df = filter_df[filter_df['data_label'] == 'turning']\n",
    "filter_df = filter_df[filter_df['sensor_number'] == '1']\n",
    "filter_df = filter_df[filter_df['date_collected'] == '12-09-23']\n",
    "#drop index 1388\n",
    "# filter_df.drop(1388, inplace=True)\n",
    "filter_df.boxplot(column='value', by='data_label')"
   ],
   "metadata": {
    "collapsed": false,
    "ExecuteTime": {
     "end_time": "2024-01-15T03:54:39.429400600Z",
     "start_time": "2024-01-15T03:54:38.711759800Z"
    }
   },
   "id": "f2e5790a80476124"
  },
  {
   "cell_type": "code",
   "execution_count": 55,
   "outputs": [
    {
     "name": "stdout",
     "output_type": "stream",
     "text": [
      "breaker\n",
      "clean\n",
      "green\n",
      "red_bruised\n",
      "red\n",
      "spoiled\n",
      "turning\n"
     ]
    }
   ],
   "source": [
    "filter_df = m_df[m_df['sensor_label'] == 'A']\n",
    "filter_df = filter_df[filter_df['sensor_number'] == '1']\n",
    "for date_i in filter_df['date_collected'].unique():\n",
    "    filter_df_date = filter_df[filter_df['date_collected'] == date_i]\n",
    "    for data_label_i in filter_df_date['data_label'].unique():\n",
    "        filter_df_data_label = filter_df_date[filter_df_date['data_label'] == data_label_i]\n",
    "        \n",
    "        q1 = filter_df_data_label['value'].quantile(0.25)\n",
    "        q3 = filter_df_data_label['value'].quantile(0.75)\n",
    "        iqr = q3 - q1\n",
    "        \n",
    "        "
   ],
   "metadata": {
    "collapsed": false,
    "ExecuteTime": {
     "end_time": "2024-01-15T03:35:17.575415200Z",
     "start_time": "2024-01-15T03:35:16.964684400Z"
    }
   },
   "id": "a2bbef33dc6b4e1b"
  },
  {
   "cell_type": "code",
   "execution_count": 29,
   "outputs": [
    {
     "data": {
      "text/plain": "array(['12-11-23', '12-06-23', '12-05-23', '12-09-23', '12-12-23',\n       '12-13-23'], dtype=object)"
     },
     "execution_count": 29,
     "metadata": {},
     "output_type": "execute_result"
    }
   ],
   "source": [
    "m_df['date_collected'].unique()"
   ],
   "metadata": {
    "collapsed": false,
    "ExecuteTime": {
     "end_time": "2024-01-15T02:47:40.037083900Z",
     "start_time": "2024-01-15T02:47:39.768526Z"
    }
   },
   "id": "2eb2052324584482"
  },
  {
   "cell_type": "code",
   "execution_count": 42,
   "outputs": [
    {
     "data": {
      "text/plain": "              time        value\ncount  3215.000000  3215.000000\nmean     65.226827    24.295801\nstd      89.173930     1.514881\nmin       0.030000    22.000000\n25%      31.410000    23.000000\n50%      63.150000    24.000000\n75%      94.895000    26.000000\nmax    3321.700000    28.000000",
      "text/html": "<div>\n<style scoped>\n    .dataframe tbody tr th:only-of-type {\n        vertical-align: middle;\n    }\n\n    .dataframe tbody tr th {\n        vertical-align: top;\n    }\n\n    .dataframe thead th {\n        text-align: right;\n    }\n</style>\n<table border=\"1\" class=\"dataframe\">\n  <thead>\n    <tr style=\"text-align: right;\">\n      <th></th>\n      <th>time</th>\n      <th>value</th>\n    </tr>\n  </thead>\n  <tbody>\n    <tr>\n      <th>count</th>\n      <td>3215.000000</td>\n      <td>3215.000000</td>\n    </tr>\n    <tr>\n      <th>mean</th>\n      <td>65.226827</td>\n      <td>24.295801</td>\n    </tr>\n    <tr>\n      <th>std</th>\n      <td>89.173930</td>\n      <td>1.514881</td>\n    </tr>\n    <tr>\n      <th>min</th>\n      <td>0.030000</td>\n      <td>22.000000</td>\n    </tr>\n    <tr>\n      <th>25%</th>\n      <td>31.410000</td>\n      <td>23.000000</td>\n    </tr>\n    <tr>\n      <th>50%</th>\n      <td>63.150000</td>\n      <td>24.000000</td>\n    </tr>\n    <tr>\n      <th>75%</th>\n      <td>94.895000</td>\n      <td>26.000000</td>\n    </tr>\n    <tr>\n      <th>max</th>\n      <td>3321.700000</td>\n      <td>28.000000</td>\n    </tr>\n  </tbody>\n</table>\n</div>"
     },
     "execution_count": 42,
     "metadata": {},
     "output_type": "execute_result"
    }
   ],
   "source": [
    "filter_df = m_df[m_df['sensor_label'] == 'A']\n",
    "filter_df = filter_df[filter_df['data_label'] == 'clean']\n",
    "filter_df = filter_df[filter_df['date_collected'] == '12-13-23']\n",
    "filter_df[filter_df['sensor_number'] == '0'].describe()"
   ],
   "metadata": {
    "collapsed": false,
    "ExecuteTime": {
     "end_time": "2024-01-15T02:50:02.281663500Z",
     "start_time": "2024-01-15T02:50:01.978881Z"
    }
   },
   "id": "24764f4e6a8a87b7"
  }
 ],
 "metadata": {
  "kernelspec": {
   "display_name": "Python 3",
   "language": "python",
   "name": "python3"
  },
  "language_info": {
   "codemirror_mode": {
    "name": "ipython",
    "version": 2
   },
   "file_extension": ".py",
   "mimetype": "text/x-python",
   "name": "python",
   "nbconvert_exporter": "python",
   "pygments_lexer": "ipython2",
   "version": "2.7.6"
  }
 },
 "nbformat": 4,
 "nbformat_minor": 5
}
