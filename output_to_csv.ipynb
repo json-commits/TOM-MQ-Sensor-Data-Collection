{
 "cells": [
  {
   "cell_type": "code",
   "execution_count": 29,
   "outputs": [],
   "source": [
    "import os\n",
    "\n",
    "# list all txt files in the current directory\n",
    "files = [f for f in os.listdir('.') if os.path.isfile(f) and f.endswith('.txt')]\n",
    "files = files[:-2]"
   ],
   "metadata": {
    "collapsed": false,
    "ExecuteTime": {
     "end_time": "2023-10-13T15:06:45.237752300Z",
     "start_time": "2023-10-13T15:06:45.208601500Z"
    }
   },
   "id": "1525a4aac18cd338"
  },
  {
   "cell_type": "code",
   "execution_count": 30,
   "outputs": [
    {
     "name": "stdout",
     "output_type": "stream",
     "text": [
      "On file: A Tomato 2.txt\n",
      "\tReading file: A Tomato 2.txt\n",
      "\tRemoving all entries that are longer than 2 characters\n",
      "\tFormatting the data\n",
      "\tSaving the data\n",
      "On file: A Tomato 3.txt\n",
      "\tReading file: A Tomato 3.txt\n",
      "\tRemoving all entries that are longer than 2 characters\n",
      "\tFormatting the data\n",
      "\tSaving the data\n",
      "On file: B Tomato 2.txt\n",
      "\tReading file: B Tomato 2.txt\n",
      "\tRemoving all entries that are longer than 2 characters\n",
      "\tFormatting the data\n",
      "\tSaving the data\n",
      "On file: B Tomato 3.txt\n",
      "\tReading file: B Tomato 3.txt\n",
      "\tRemoving all entries that are longer than 2 characters\n",
      "\tFormatting the data\n",
      "\tSaving the data\n",
      "On file: C Tomato 2.txt\n",
      "\tReading file: C Tomato 2.txt\n",
      "\tRemoving all entries that are longer than 2 characters\n",
      "\tFormatting the data\n",
      "\tSaving the data\n",
      "On file: C Tomato 3.txt\n",
      "\tReading file: C Tomato 3.txt\n",
      "\tRemoving all entries that are longer than 2 characters\n",
      "\tFormatting the data\n",
      "\tSaving the data\n",
      "On file: D Tomato 2.txt\n",
      "\tReading file: D Tomato 2.txt\n",
      "\tRemoving all entries that are longer than 2 characters\n",
      "\tFormatting the data\n",
      "\tSaving the data\n",
      "On file: D Tomato 3.txt\n",
      "\tReading file: D Tomato 3.txt\n",
      "\tRemoving all entries that are longer than 2 characters\n",
      "\tFormatting the data\n",
      "\tSaving the data\n",
      "On file: E Clean.txt\n",
      "\tReading file: E Clean.txt\n",
      "\tRemoving all entries that are longer than 2 characters\n",
      "\tFormatting the data\n",
      "\tSaving the data\n",
      "On file: E Tomato 2.txt\n",
      "\tReading file: E Tomato 2.txt\n",
      "\tRemoving all entries that are longer than 2 characters\n",
      "\tFormatting the data\n",
      "\tSaving the data\n",
      "On file: E Tomato 3.txt\n",
      "\tReading file: E Tomato 3.txt\n",
      "\tRemoving all entries that are longer than 2 characters\n",
      "\tFormatting the data\n",
      "\tSaving the data\n",
      "On file: F Clean.txt\n",
      "\tReading file: F Clean.txt\n",
      "\tRemoving all entries that are longer than 2 characters\n",
      "\tFormatting the data\n",
      "\tSaving the data\n",
      "On file: F Tomato 2.txt\n",
      "\tReading file: F Tomato 2.txt\n",
      "\tRemoving all entries that are longer than 2 characters\n",
      "\tFormatting the data\n",
      "\tSaving the data\n",
      "On file: F Tomato 3.txt\n",
      "\tReading file: F Tomato 3.txt\n",
      "\tRemoving all entries that are longer than 2 characters\n",
      "\tFormatting the data\n",
      "\tSaving the data\n"
     ]
    }
   ],
   "source": [
    "import pandas as pd\n",
    "\n",
    "for filename in files:\n",
    "    print(f'On file: {filename}')\n",
    "    with open(filename) as f:\n",
    "        print(f'\\tReading file: {filename}')\n",
    "        lines = f.readlines()\n",
    "    \n",
    "    # remove all entries that are longer than 2 characters\n",
    "    print(f'\\tRemoving all entries that are longer than 2 characters')\n",
    "    lines = [l.split('\\t') for l in lines if len(l) > 2]\n",
    "    \n",
    "    # formatting the data\n",
    "    print(f'\\tFormatting the data')\n",
    "    for e, line in enumerate(lines):\n",
    "        line[1] = line[1][4:]\n",
    "        line[2] = line[2][4:]\n",
    "        line[3] = line[3][4:-1]\n",
    "        \n",
    "        lines[e] = {'time': line[0], 'A0': line[1], \n",
    "                    'A1': line[2], 'A2': line[3]}\n",
    "    \n",
    "    # saving the data\n",
    "    print(f'\\tSaving the data')\n",
    "    df = pd.DataFrame(lines)\n",
    "    df.to_csv(filename[:-4] + '.csv')\n",
    "\n",
    "print(f'Finished saving the data')\n",
    "    "
   ],
   "metadata": {
    "collapsed": false,
    "ExecuteTime": {
     "end_time": "2023-10-13T15:07:04.671871100Z",
     "start_time": "2023-10-13T15:07:03.937298200Z"
    }
   },
   "id": "dad67dfbdff31b99"
  },
  {
   "cell_type": "code",
   "execution_count": 34,
   "outputs": [
    {
     "name": "stdout",
     "output_type": "stream",
     "text": [
      "Exporting the data to an xlsx file\n",
      "\tOn file: A Tomato 2.csv\n",
      "\tOn file: A Tomato 3.csv\n",
      "\tOn file: B Tomato 2.csv\n",
      "\tOn file: B Tomato 3.csv\n",
      "\tOn file: C Tomato 2.csv\n",
      "\tOn file: C Tomato 3.csv\n",
      "\tOn file: D Tomato 2.csv\n",
      "\tOn file: D Tomato 3.csv\n",
      "\tOn file: E Clean.csv\n",
      "\tOn file: E Tomato 2.csv\n",
      "\tOn file: E Tomato 3.csv\n",
      "\tOn file: F Clean.csv\n",
      "\tOn file: F Tomato 2.csv\n",
      "\tOn file: F Tomato 3.csv\n",
      "Finished exporting the data to an xlsx file\n"
     ]
    }
   ],
   "source": [
    "# merge all the csv files into one xlsx file\n",
    "import pandas as pd\n",
    "\n",
    "# list all csv files in the current directory\n",
    "files = [f for f in os.listdir('.') if os.path.isfile(f) and f.endswith('.csv')]\n",
    "\n",
    "# export the data to an xlsx file\n",
    "print(f'Exporting the data to an xlsx file')\n",
    "with pd.ExcelWriter('data.xlsx') as writer:\n",
    "    for filename in files:\n",
    "        print(f'\\tOn file: {filename}')\n",
    "        df = pd.read_csv(filename, index_col=0)\n",
    "        df.to_excel(writer, sheet_name=filename[:-4], index=False)\n",
    "        \n",
    "print(f'Finished exporting the data to an xlsx file')"
   ],
   "metadata": {
    "collapsed": false,
    "ExecuteTime": {
     "end_time": "2023-10-13T15:14:04.654346500Z",
     "start_time": "2023-10-13T15:13:51.659961900Z"
    }
   },
   "id": "e6341656c3defc74"
  },
  {
   "cell_type": "code",
   "execution_count": 1,
   "outputs": [
    {
     "ename": "ValueError",
     "evalue": "Can only compare identically-labeled Series objects",
     "output_type": "error",
     "traceback": [
      "\u001B[1;31m---------------------------------------------------------------------------\u001B[0m",
      "\u001B[1;31mValueError\u001B[0m                                Traceback (most recent call last)",
      "Cell \u001B[1;32mIn[1], line 7\u001B[0m\n\u001B[0;32m      4\u001B[0m df_2 \u001B[38;5;241m=\u001B[39m pd\u001B[38;5;241m.\u001B[39mread_csv(\u001B[38;5;124m\"\u001B[39m\u001B[38;5;124mA Tomato 3.csv\u001B[39m\u001B[38;5;124m\"\u001B[39m)\n\u001B[0;32m      6\u001B[0m \u001B[38;5;66;03m# print if df_1['time'] is equal to df_2['time']\u001B[39;00m\n\u001B[1;32m----> 7\u001B[0m \u001B[38;5;28mprint\u001B[39m(\u001B[43mdf_1\u001B[49m\u001B[43m[\u001B[49m\u001B[38;5;124;43m'\u001B[39;49m\u001B[38;5;124;43mtime\u001B[39;49m\u001B[38;5;124;43m'\u001B[39;49m\u001B[43m]\u001B[49m\u001B[43m \u001B[49m\u001B[38;5;241;43m==\u001B[39;49m\u001B[43m \u001B[49m\u001B[43mdf_2\u001B[49m\u001B[43m[\u001B[49m\u001B[38;5;124;43m'\u001B[39;49m\u001B[38;5;124;43mtime\u001B[39;49m\u001B[38;5;124;43m'\u001B[39;49m\u001B[43m]\u001B[49m)\n",
      "File \u001B[1;32m~\\Documents\\JetBrains\\PycharmProjects\\arduinoSerialRead\\venv\\lib\\site-packages\\pandas\\core\\ops\\common.py:81\u001B[0m, in \u001B[0;36m_unpack_zerodim_and_defer.<locals>.new_method\u001B[1;34m(self, other)\u001B[0m\n\u001B[0;32m     77\u001B[0m             \u001B[38;5;28;01mreturn\u001B[39;00m \u001B[38;5;28mNotImplemented\u001B[39m\n\u001B[0;32m     79\u001B[0m other \u001B[38;5;241m=\u001B[39m item_from_zerodim(other)\n\u001B[1;32m---> 81\u001B[0m \u001B[38;5;28;01mreturn\u001B[39;00m \u001B[43mmethod\u001B[49m\u001B[43m(\u001B[49m\u001B[38;5;28;43mself\u001B[39;49m\u001B[43m,\u001B[49m\u001B[43m \u001B[49m\u001B[43mother\u001B[49m\u001B[43m)\u001B[49m\n",
      "File \u001B[1;32m~\\Documents\\JetBrains\\PycharmProjects\\arduinoSerialRead\\venv\\lib\\site-packages\\pandas\\core\\arraylike.py:40\u001B[0m, in \u001B[0;36mOpsMixin.__eq__\u001B[1;34m(self, other)\u001B[0m\n\u001B[0;32m     38\u001B[0m \u001B[38;5;129m@unpack_zerodim_and_defer\u001B[39m(\u001B[38;5;124m\"\u001B[39m\u001B[38;5;124m__eq__\u001B[39m\u001B[38;5;124m\"\u001B[39m)\n\u001B[0;32m     39\u001B[0m \u001B[38;5;28;01mdef\u001B[39;00m \u001B[38;5;21m__eq__\u001B[39m(\u001B[38;5;28mself\u001B[39m, other):\n\u001B[1;32m---> 40\u001B[0m     \u001B[38;5;28;01mreturn\u001B[39;00m \u001B[38;5;28;43mself\u001B[39;49m\u001B[38;5;241;43m.\u001B[39;49m\u001B[43m_cmp_method\u001B[49m\u001B[43m(\u001B[49m\u001B[43mother\u001B[49m\u001B[43m,\u001B[49m\u001B[43m \u001B[49m\u001B[43moperator\u001B[49m\u001B[38;5;241;43m.\u001B[39;49m\u001B[43meq\u001B[49m\u001B[43m)\u001B[49m\n",
      "File \u001B[1;32m~\\Documents\\JetBrains\\PycharmProjects\\arduinoSerialRead\\venv\\lib\\site-packages\\pandas\\core\\series.py:6090\u001B[0m, in \u001B[0;36mSeries._cmp_method\u001B[1;34m(self, other, op)\u001B[0m\n\u001B[0;32m   6087\u001B[0m res_name \u001B[38;5;241m=\u001B[39m ops\u001B[38;5;241m.\u001B[39mget_op_result_name(\u001B[38;5;28mself\u001B[39m, other)\n\u001B[0;32m   6089\u001B[0m \u001B[38;5;28;01mif\u001B[39;00m \u001B[38;5;28misinstance\u001B[39m(other, Series) \u001B[38;5;129;01mand\u001B[39;00m \u001B[38;5;129;01mnot\u001B[39;00m \u001B[38;5;28mself\u001B[39m\u001B[38;5;241m.\u001B[39m_indexed_same(other):\n\u001B[1;32m-> 6090\u001B[0m     \u001B[38;5;28;01mraise\u001B[39;00m \u001B[38;5;167;01mValueError\u001B[39;00m(\u001B[38;5;124m\"\u001B[39m\u001B[38;5;124mCan only compare identically-labeled Series objects\u001B[39m\u001B[38;5;124m\"\u001B[39m)\n\u001B[0;32m   6092\u001B[0m lvalues \u001B[38;5;241m=\u001B[39m \u001B[38;5;28mself\u001B[39m\u001B[38;5;241m.\u001B[39m_values\n\u001B[0;32m   6093\u001B[0m rvalues \u001B[38;5;241m=\u001B[39m extract_array(other, extract_numpy\u001B[38;5;241m=\u001B[39m\u001B[38;5;28;01mTrue\u001B[39;00m, extract_range\u001B[38;5;241m=\u001B[39m\u001B[38;5;28;01mTrue\u001B[39;00m)\n",
      "\u001B[1;31mValueError\u001B[0m: Can only compare identically-labeled Series objects"
     ]
    }
   ],
   "source": [
    "import pandas as pd\n",
    "\n",
    "df_1 = pd.read_csv(\"A Tomato 2.csv\")\n",
    "df_2 = pd.read_csv(\"A Tomato 3.csv\")\n",
    "\n",
    "# print if df_1['time'] is equal to df_2['time']\n",
    "print(df_1"
   ],
   "metadata": {
    "collapsed": false,
    "ExecuteTime": {
     "end_time": "2023-10-14T01:39:34.188089700Z",
     "start_time": "2023-10-14T01:39:32.109702100Z"
    }
   },
   "id": "a259c024dd81f357"
  }
 ],
 "metadata": {
  "kernelspec": {
   "display_name": "Python 3",
   "language": "python",
   "name": "python3"
  },
  "language_info": {
   "codemirror_mode": {
    "name": "ipython",
    "version": 2
   },
   "file_extension": ".py",
   "mimetype": "text/x-python",
   "name": "python",
   "nbconvert_exporter": "python",
   "pygments_lexer": "ipython2",
   "version": "2.7.6"
  }
 },
 "nbformat": 4,
 "nbformat_minor": 5
}
