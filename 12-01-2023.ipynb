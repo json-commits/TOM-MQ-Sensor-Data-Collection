{
 "cells": [
  {
   "cell_type": "code",
   "execution_count": 1,
   "outputs": [],
   "source": [
    "import pandas as pd\n",
    "\n",
    "master_df_a = pd.DataFrame()\n",
    "master_df_b = pd.DataFrame()\n",
    "master_df_c = pd.DataFrame()\n",
    "master_df_d = pd.DataFrame()"
   ],
   "metadata": {
    "collapsed": false,
    "ExecuteTime": {
     "end_time": "2023-12-09T05:12:41.684328300Z",
     "start_time": "2023-12-09T05:12:41.673875400Z"
    }
   },
   "id": "c114fac66ccb3940"
  },
  {
   "cell_type": "code",
   "execution_count": 22,
   "id": "initial_id",
   "metadata": {
    "collapsed": true,
    "ExecuteTime": {
     "end_time": "2023-12-09T06:53:04.254482700Z",
     "start_time": "2023-12-09T06:53:04.166096600Z"
    }
   },
   "outputs": [
    {
     "name": "stdout",
     "output_type": "stream",
     "text": [
      "importing...done\n",
      "processing...done\n",
      "sorting...done\n"
     ]
    }
   ],
   "source": [
    "print('importing...', end='')\n",
    "x = \"\"\n",
    "file_name = \"aeration4_12-09-23.txt\"\n",
    "# with open(f\"raw_data (12-05-2023)/{file_name}\") as file:\n",
    "with open(f\"{file_name}\") as file:\n",
    "    x = file.readlines()\n",
    "\n",
    "x = [i for i in x if i != \"\\n\"]\n",
    "print('done')\n",
    "\n",
    "print('processing...', end='')\n",
    "def process(x1):\n",
    "    x1[3] = x1[3][:]\n",
    "    return x1\n",
    "    \n",
    "# [process(x) for i in x]\n",
    "# out = [process(x1.split(\"\\t\")) for x1 in x]\n",
    "\n",
    "out = []\n",
    "for e, x1 in enumerate(x):\n",
    "    try:\n",
    "        out.append(process(x1.split(\"\\t\")))\n",
    "    except IndexError:\n",
    "        print(e)\n",
    "        raise IndexError\n",
    "\n",
    "print('done')\n",
    "\n",
    "print('sorting...', end='')\n",
    "def process2(x1):\n",
    "    for i in range(1,4):\n",
    "        x1[i] = x1[i][4:]\n",
    "    try:\n",
    "        x1[4] = x1[4][3:-1]\n",
    "    except IndexError:\n",
    "        pass\n",
    "    return x1\n",
    "\n",
    "a = []\n",
    "b = []\n",
    "c = []\n",
    "d = []\n",
    "\n",
    "for i in out:\n",
    "    if i[1][1] == \"A\":\n",
    "        a.append(process2(i))\n",
    "    elif i[1][1] == \"B\":\n",
    "        b.append(process2(i))\n",
    "    elif i[1][1] == \"C\":\n",
    "        c.append(process2(i))\n",
    "    elif i[1][1] == \"D\":\n",
    "        d.append(process2(i))\n",
    "    else:\n",
    "        print(\"error\")\n",
    "        \n",
    "print(\"done\")\n"
   ]
  },
  {
   "cell_type": "code",
   "execution_count": 112,
   "outputs": [
    {
     "data": {
      "text/plain": "'109.72\\t122\\n'"
     },
     "execution_count": 112,
     "metadata": {},
     "output_type": "execute_result"
    }
   ],
   "source": [
    "x[6177]"
   ],
   "metadata": {
    "collapsed": false,
    "ExecuteTime": {
     "end_time": "2023-12-05T03:45:33.498985400Z",
     "start_time": "2023-12-05T03:45:33.420645Z"
    }
   },
   "id": "21f1c0ba7b105e8c"
  },
  {
   "cell_type": "code",
   "execution_count": 6,
   "outputs": [
    {
     "data": {
      "text/plain": "['0.03', '16', '212', '52', '25.80']"
     },
     "execution_count": 6,
     "metadata": {},
     "output_type": "execute_result"
    }
   ],
   "source": [
    "a[0]"
   ],
   "metadata": {
    "collapsed": false,
    "ExecuteTime": {
     "end_time": "2023-12-09T05:14:33.818959Z",
     "start_time": "2023-12-09T05:14:33.802656400Z"
    }
   },
   "id": "8efad18214e40463"
  },
  {
   "cell_type": "code",
   "execution_count": 110,
   "outputs": [
    {
     "data": {
      "text/plain": "           0   1    2    3\n0       0.01  65  290  172\n1       0.03  65  290  172\n2       0.09  65  290  172\n3       0.15  65  289  172\n4       0.21  65  290  172\n...      ...  ..  ...  ...\n2070  157.16  49  288  157\n2071  157.22  49  288  156\n2072  157.29  49  288  157\n2073  157.35  48  288  156\n2074  157.41  49  288  157\n\n[2075 rows x 4 columns]",
      "text/html": "<div>\n<style scoped>\n    .dataframe tbody tr th:only-of-type {\n        vertical-align: middle;\n    }\n\n    .dataframe tbody tr th {\n        vertical-align: top;\n    }\n\n    .dataframe thead th {\n        text-align: right;\n    }\n</style>\n<table border=\"1\" class=\"dataframe\">\n  <thead>\n    <tr style=\"text-align: right;\">\n      <th></th>\n      <th>0</th>\n      <th>1</th>\n      <th>2</th>\n      <th>3</th>\n    </tr>\n  </thead>\n  <tbody>\n    <tr>\n      <th>0</th>\n      <td>0.01</td>\n      <td>65</td>\n      <td>290</td>\n      <td>172</td>\n    </tr>\n    <tr>\n      <th>1</th>\n      <td>0.03</td>\n      <td>65</td>\n      <td>290</td>\n      <td>172</td>\n    </tr>\n    <tr>\n      <th>2</th>\n      <td>0.09</td>\n      <td>65</td>\n      <td>290</td>\n      <td>172</td>\n    </tr>\n    <tr>\n      <th>3</th>\n      <td>0.15</td>\n      <td>65</td>\n      <td>289</td>\n      <td>172</td>\n    </tr>\n    <tr>\n      <th>4</th>\n      <td>0.21</td>\n      <td>65</td>\n      <td>290</td>\n      <td>172</td>\n    </tr>\n    <tr>\n      <th>...</th>\n      <td>...</td>\n      <td>...</td>\n      <td>...</td>\n      <td>...</td>\n    </tr>\n    <tr>\n      <th>2070</th>\n      <td>157.16</td>\n      <td>49</td>\n      <td>288</td>\n      <td>157</td>\n    </tr>\n    <tr>\n      <th>2071</th>\n      <td>157.22</td>\n      <td>49</td>\n      <td>288</td>\n      <td>156</td>\n    </tr>\n    <tr>\n      <th>2072</th>\n      <td>157.29</td>\n      <td>49</td>\n      <td>288</td>\n      <td>157</td>\n    </tr>\n    <tr>\n      <th>2073</th>\n      <td>157.35</td>\n      <td>48</td>\n      <td>288</td>\n      <td>156</td>\n    </tr>\n    <tr>\n      <th>2074</th>\n      <td>157.41</td>\n      <td>49</td>\n      <td>288</td>\n      <td>157</td>\n    </tr>\n  </tbody>\n</table>\n<p>2075 rows × 4 columns</p>\n</div>"
     },
     "execution_count": 110,
     "metadata": {},
     "output_type": "execute_result"
    }
   ],
   "source": [
    "import pandas as pd\n",
    "\n",
    "pd.DataFrame(a)"
   ],
   "metadata": {
    "collapsed": false,
    "ExecuteTime": {
     "end_time": "2023-12-05T03:45:14.427152800Z",
     "start_time": "2023-12-05T03:45:14.376034500Z"
    }
   },
   "id": "3cace265b853265b"
  },
  {
   "cell_type": "code",
   "execution_count": 72,
   "outputs": [],
   "source": [
    "a_data_name = \"Green_2\"\n",
    "b_data_name = a_data_name\n",
    "c_data_name = a_data_name\n",
    "d_data_name = a_data_name"
   ],
   "metadata": {
    "collapsed": false,
    "ExecuteTime": {
     "end_time": "2023-12-05T03:30:24.623799200Z",
     "start_time": "2023-12-05T03:30:24.607908200Z"
    }
   },
   "id": "c6df11547212a126"
  },
  {
   "cell_type": "code",
   "execution_count": 73,
   "outputs": [
    {
     "name": "stdout",
     "output_type": "stream",
     "text": [
      "found a as Green_2\n",
      "found b as Green_2\n",
      "found c as Green_2\n",
      "found d as Green_2\n"
     ]
    }
   ],
   "source": [
    "import pandas as pd\n",
    "# \"C-F_SealedTupperware D-E_SealedPlastic.txt\"\n",
    "# a_data_name = \"F_SealedTupperware\"[2:]\n",
    "# b_data_name = \"E_SealedPlastic\"[2:]\n",
    "# c_data_name = \"\"[2:]\n",
    "# d_data_name = \"\"[2:]\n",
    "\n",
    "if a_data_name != \"\":\n",
    "    print(f\"found a as {a_data_name}\")\n",
    "    df_a = pd.DataFrame(a)\n",
    "    df_a.columns = [f'time_{a_data_name}', f'A0_{a_data_name}', f'A1_{a_data_name}', f'A2_{a_data_name}']\n",
    "    master_df_a = pd.concat([master_df_a, df_a], axis=1)\n",
    "\n",
    "if b_data_name != \"\":\n",
    "    print(f\"found b as {b_data_name}\")\n",
    "    df_b = pd.DataFrame(b) \n",
    "    df_b.columns = [f'time_{b_data_name}', f'B0_{b_data_name}', f'B1_{b_data_name}', f'B2_{b_data_name}']\n",
    "    master_df_b = pd.concat([master_df_b, df_b], axis=1)\n",
    "\n",
    "if c_data_name != \"\":\n",
    "    print(f\"found c as {c_data_name}\")\n",
    "    df_c = pd.DataFrame(c)\n",
    "    df_c.columns = [f'time_{c_data_name}', f'C0_{c_data_name}', f'C1_{c_data_name}', f'C2_{c_data_name}']\n",
    "    master_df_c = pd.concat([master_df_c, df_c], axis=1)\n",
    "\n",
    "if d_data_name != \"\":\n",
    "    print(f\"found d as {d_data_name}\")\n",
    "    df_d = pd.DataFrame(d)\n",
    "    df_d.columns = [f'time_{d_data_name}', f'D0_{d_data_name}', f'D1_{d_data_name}', f'D2_{d_data_name}', f'T_{d_data_name}']\n",
    "    master_df_d = pd.concat([master_df_d, df_d], axis=1)\n"
   ],
   "metadata": {
    "collapsed": false,
    "ExecuteTime": {
     "end_time": "2023-12-05T03:30:27.065853Z",
     "start_time": "2023-12-05T03:30:27.037243100Z"
    }
   },
   "id": "61d6d25b0ea35a32"
  },
  {
   "cell_type": "code",
   "execution_count": 75,
   "outputs": [
    {
     "data": {
      "text/plain": "     time_Green_2 A0_Green_2 A1_Green_2 A2_Green_2\n0            0.01         77        307        182\n1            0.03         77        307        182\n2            0.09         77        307        182\n3            0.15         77        307        182\n4            0.21         77        307        183\n...           ...        ...        ...        ...\n2002       152.77         74        305        169\n2003       152.84         74        305        169\n2004       152.90         74        305        169\n2005       152.97         74        305        169\n2006       153.03         74        305        169\n\n[2007 rows x 4 columns]",
      "text/html": "<div>\n<style scoped>\n    .dataframe tbody tr th:only-of-type {\n        vertical-align: middle;\n    }\n\n    .dataframe tbody tr th {\n        vertical-align: top;\n    }\n\n    .dataframe thead th {\n        text-align: right;\n    }\n</style>\n<table border=\"1\" class=\"dataframe\">\n  <thead>\n    <tr style=\"text-align: right;\">\n      <th></th>\n      <th>time_Green_2</th>\n      <th>A0_Green_2</th>\n      <th>A1_Green_2</th>\n      <th>A2_Green_2</th>\n    </tr>\n  </thead>\n  <tbody>\n    <tr>\n      <th>0</th>\n      <td>0.01</td>\n      <td>77</td>\n      <td>307</td>\n      <td>182</td>\n    </tr>\n    <tr>\n      <th>1</th>\n      <td>0.03</td>\n      <td>77</td>\n      <td>307</td>\n      <td>182</td>\n    </tr>\n    <tr>\n      <th>2</th>\n      <td>0.09</td>\n      <td>77</td>\n      <td>307</td>\n      <td>182</td>\n    </tr>\n    <tr>\n      <th>3</th>\n      <td>0.15</td>\n      <td>77</td>\n      <td>307</td>\n      <td>182</td>\n    </tr>\n    <tr>\n      <th>4</th>\n      <td>0.21</td>\n      <td>77</td>\n      <td>307</td>\n      <td>183</td>\n    </tr>\n    <tr>\n      <th>...</th>\n      <td>...</td>\n      <td>...</td>\n      <td>...</td>\n      <td>...</td>\n    </tr>\n    <tr>\n      <th>2002</th>\n      <td>152.77</td>\n      <td>74</td>\n      <td>305</td>\n      <td>169</td>\n    </tr>\n    <tr>\n      <th>2003</th>\n      <td>152.84</td>\n      <td>74</td>\n      <td>305</td>\n      <td>169</td>\n    </tr>\n    <tr>\n      <th>2004</th>\n      <td>152.90</td>\n      <td>74</td>\n      <td>305</td>\n      <td>169</td>\n    </tr>\n    <tr>\n      <th>2005</th>\n      <td>152.97</td>\n      <td>74</td>\n      <td>305</td>\n      <td>169</td>\n    </tr>\n    <tr>\n      <th>2006</th>\n      <td>153.03</td>\n      <td>74</td>\n      <td>305</td>\n      <td>169</td>\n    </tr>\n  </tbody>\n</table>\n<p>2007 rows × 4 columns</p>\n</div>"
     },
     "execution_count": 75,
     "metadata": {},
     "output_type": "execute_result"
    }
   ],
   "source": [
    "master_df_a"
   ],
   "metadata": {
    "collapsed": false,
    "ExecuteTime": {
     "end_time": "2023-12-05T03:30:39.626213900Z",
     "start_time": "2023-12-05T03:30:39.571573Z"
    }
   },
   "id": "ddb566f74e51b70e"
  },
  {
   "cell_type": "code",
   "execution_count": 103,
   "outputs": [
    {
     "data": {
      "text/plain": "      time_A  A0   A1   A2\n0       0.00  44  356  102\n1       0.01  44  356  102\n2       0.02  44  356  102\n3       0.03  44  356  102\n4       0.06  44  356  102\n...      ...  ..  ...  ...\n6157  189.88  43  356   94\n6158  189.91  43  356   94\n6159  189.94  43  356   94\n6160  189.97  43  356   94\n6161  190.00  43  356   94\n\n[6162 rows x 4 columns]",
      "text/html": "<div>\n<style scoped>\n    .dataframe tbody tr th:only-of-type {\n        vertical-align: middle;\n    }\n\n    .dataframe tbody tr th {\n        vertical-align: top;\n    }\n\n    .dataframe thead th {\n        text-align: right;\n    }\n</style>\n<table border=\"1\" class=\"dataframe\">\n  <thead>\n    <tr style=\"text-align: right;\">\n      <th></th>\n      <th>time_A</th>\n      <th>A0</th>\n      <th>A1</th>\n      <th>A2</th>\n    </tr>\n  </thead>\n  <tbody>\n    <tr>\n      <th>0</th>\n      <td>0.00</td>\n      <td>44</td>\n      <td>356</td>\n      <td>102</td>\n    </tr>\n    <tr>\n      <th>1</th>\n      <td>0.01</td>\n      <td>44</td>\n      <td>356</td>\n      <td>102</td>\n    </tr>\n    <tr>\n      <th>2</th>\n      <td>0.02</td>\n      <td>44</td>\n      <td>356</td>\n      <td>102</td>\n    </tr>\n    <tr>\n      <th>3</th>\n      <td>0.03</td>\n      <td>44</td>\n      <td>356</td>\n      <td>102</td>\n    </tr>\n    <tr>\n      <th>4</th>\n      <td>0.06</td>\n      <td>44</td>\n      <td>356</td>\n      <td>102</td>\n    </tr>\n    <tr>\n      <th>...</th>\n      <td>...</td>\n      <td>...</td>\n      <td>...</td>\n      <td>...</td>\n    </tr>\n    <tr>\n      <th>6157</th>\n      <td>189.88</td>\n      <td>43</td>\n      <td>356</td>\n      <td>94</td>\n    </tr>\n    <tr>\n      <th>6158</th>\n      <td>189.91</td>\n      <td>43</td>\n      <td>356</td>\n      <td>94</td>\n    </tr>\n    <tr>\n      <th>6159</th>\n      <td>189.94</td>\n      <td>43</td>\n      <td>356</td>\n      <td>94</td>\n    </tr>\n    <tr>\n      <th>6160</th>\n      <td>189.97</td>\n      <td>43</td>\n      <td>356</td>\n      <td>94</td>\n    </tr>\n    <tr>\n      <th>6161</th>\n      <td>190.00</td>\n      <td>43</td>\n      <td>356</td>\n      <td>94</td>\n    </tr>\n  </tbody>\n</table>\n<p>6162 rows × 4 columns</p>\n</div>"
     },
     "execution_count": 103,
     "metadata": {},
     "output_type": "execute_result"
    }
   ],
   "source": [
    "import pandas as pd\n",
    "sensor_label = 'A'\n",
    "\n",
    "#!!\n",
    "df = pd.DataFrame(a)\n",
    "# df.columns = [f'time_{sensor_label}_{data_name}', f'{sensor_label}0_{data_name}', \n",
    "#               f'{sensor_label}1_{data_name}', f'{sensor_label}2_{data_name}']\n",
    "\n",
    "\n",
    "df.columns = [f'time_{sensor_label}', f'{sensor_label}0', f'{sensor_label}1', f'{sensor_label}2']\n",
    "\n",
    "A_AgedOpenAir = df\n",
    "\n",
    "df\n",
    "\n",
    "def label_columns()"
   ],
   "metadata": {
    "collapsed": false,
    "ExecuteTime": {
     "end_time": "2023-12-01T08:39:01.356064300Z",
     "start_time": "2023-12-01T08:39:01.309829100Z"
    }
   },
   "id": "a411aa981fd98d45"
  },
  {
   "cell_type": "code",
   "execution_count": 104,
   "outputs": [],
   "source": [
    "master_df = pd.DataFrame()"
   ],
   "metadata": {
    "collapsed": false,
    "ExecuteTime": {
     "end_time": "2023-12-01T08:39:05.068660500Z",
     "start_time": "2023-12-01T08:39:05.058508300Z"
    }
   },
   "id": "683b4bf1294f652b"
  },
  {
   "cell_type": "code",
   "execution_count": 108,
   "outputs": [
    {
     "data": {
      "text/plain": "     time_A   A0   A1   A2  time_B   B0   B1   B2 time_C   C0   C1   C2  \\\n0      0.00   50  379  110    0.00  143  289  105   0.00   55  143  374   \n1      0.01   50  380  110    0.01  143  289  105   0.01   55  143  374   \n2      0.02   50  380  110    0.02  143  289  105   0.02   56  143  374   \n3      0.03   50  380  110    0.03  143  289  105   0.03   55  143  374   \n4      0.06   50  380  110    0.07  143  289  105   0.06   55  143  374   \n...     ...  ...  ...  ...     ...  ...  ...  ...    ...  ...  ...  ...   \n6157    NaN  NaN  NaN  NaN  201.27  142  281  106    NaN  NaN  NaN  NaN   \n6158    NaN  NaN  NaN  NaN  201.31  142  281  106    NaN  NaN  NaN  NaN   \n6159    NaN  NaN  NaN  NaN  201.34  142  281  106    NaN  NaN  NaN  NaN   \n6160    NaN  NaN  NaN  NaN  201.37  142  281  106    NaN  NaN  NaN  NaN   \n6161    NaN  NaN  NaN  NaN  201.41  142  281  106    NaN  NaN  NaN  NaN   \n\n     time_D   D0   D1   D2  \n0      0.00   35  258  108  \n1      0.01   34  258  108  \n2      0.02   35  258  108  \n3      0.03   34  258  108  \n4      0.06   34  258  108  \n...     ...  ...  ...  ...  \n6157    NaN  NaN  NaN  NaN  \n6158    NaN  NaN  NaN  NaN  \n6159    NaN  NaN  NaN  NaN  \n6160    NaN  NaN  NaN  NaN  \n6161    NaN  NaN  NaN  NaN  \n\n[6162 rows x 16 columns]",
      "text/html": "<div>\n<style scoped>\n    .dataframe tbody tr th:only-of-type {\n        vertical-align: middle;\n    }\n\n    .dataframe tbody tr th {\n        vertical-align: top;\n    }\n\n    .dataframe thead th {\n        text-align: right;\n    }\n</style>\n<table border=\"1\" class=\"dataframe\">\n  <thead>\n    <tr style=\"text-align: right;\">\n      <th></th>\n      <th>time_A</th>\n      <th>A0</th>\n      <th>A1</th>\n      <th>A2</th>\n      <th>time_B</th>\n      <th>B0</th>\n      <th>B1</th>\n      <th>B2</th>\n      <th>time_C</th>\n      <th>C0</th>\n      <th>C1</th>\n      <th>C2</th>\n      <th>time_D</th>\n      <th>D0</th>\n      <th>D1</th>\n      <th>D2</th>\n    </tr>\n  </thead>\n  <tbody>\n    <tr>\n      <th>0</th>\n      <td>0.00</td>\n      <td>50</td>\n      <td>379</td>\n      <td>110</td>\n      <td>0.00</td>\n      <td>143</td>\n      <td>289</td>\n      <td>105</td>\n      <td>0.00</td>\n      <td>55</td>\n      <td>143</td>\n      <td>374</td>\n      <td>0.00</td>\n      <td>35</td>\n      <td>258</td>\n      <td>108</td>\n    </tr>\n    <tr>\n      <th>1</th>\n      <td>0.01</td>\n      <td>50</td>\n      <td>380</td>\n      <td>110</td>\n      <td>0.01</td>\n      <td>143</td>\n      <td>289</td>\n      <td>105</td>\n      <td>0.01</td>\n      <td>55</td>\n      <td>143</td>\n      <td>374</td>\n      <td>0.01</td>\n      <td>34</td>\n      <td>258</td>\n      <td>108</td>\n    </tr>\n    <tr>\n      <th>2</th>\n      <td>0.02</td>\n      <td>50</td>\n      <td>380</td>\n      <td>110</td>\n      <td>0.02</td>\n      <td>143</td>\n      <td>289</td>\n      <td>105</td>\n      <td>0.02</td>\n      <td>56</td>\n      <td>143</td>\n      <td>374</td>\n      <td>0.02</td>\n      <td>35</td>\n      <td>258</td>\n      <td>108</td>\n    </tr>\n    <tr>\n      <th>3</th>\n      <td>0.03</td>\n      <td>50</td>\n      <td>380</td>\n      <td>110</td>\n      <td>0.03</td>\n      <td>143</td>\n      <td>289</td>\n      <td>105</td>\n      <td>0.03</td>\n      <td>55</td>\n      <td>143</td>\n      <td>374</td>\n      <td>0.03</td>\n      <td>34</td>\n      <td>258</td>\n      <td>108</td>\n    </tr>\n    <tr>\n      <th>4</th>\n      <td>0.06</td>\n      <td>50</td>\n      <td>380</td>\n      <td>110</td>\n      <td>0.07</td>\n      <td>143</td>\n      <td>289</td>\n      <td>105</td>\n      <td>0.06</td>\n      <td>55</td>\n      <td>143</td>\n      <td>374</td>\n      <td>0.06</td>\n      <td>34</td>\n      <td>258</td>\n      <td>108</td>\n    </tr>\n    <tr>\n      <th>...</th>\n      <td>...</td>\n      <td>...</td>\n      <td>...</td>\n      <td>...</td>\n      <td>...</td>\n      <td>...</td>\n      <td>...</td>\n      <td>...</td>\n      <td>...</td>\n      <td>...</td>\n      <td>...</td>\n      <td>...</td>\n      <td>...</td>\n      <td>...</td>\n      <td>...</td>\n      <td>...</td>\n    </tr>\n    <tr>\n      <th>6157</th>\n      <td>NaN</td>\n      <td>NaN</td>\n      <td>NaN</td>\n      <td>NaN</td>\n      <td>201.27</td>\n      <td>142</td>\n      <td>281</td>\n      <td>106</td>\n      <td>NaN</td>\n      <td>NaN</td>\n      <td>NaN</td>\n      <td>NaN</td>\n      <td>NaN</td>\n      <td>NaN</td>\n      <td>NaN</td>\n      <td>NaN</td>\n    </tr>\n    <tr>\n      <th>6158</th>\n      <td>NaN</td>\n      <td>NaN</td>\n      <td>NaN</td>\n      <td>NaN</td>\n      <td>201.31</td>\n      <td>142</td>\n      <td>281</td>\n      <td>106</td>\n      <td>NaN</td>\n      <td>NaN</td>\n      <td>NaN</td>\n      <td>NaN</td>\n      <td>NaN</td>\n      <td>NaN</td>\n      <td>NaN</td>\n      <td>NaN</td>\n    </tr>\n    <tr>\n      <th>6159</th>\n      <td>NaN</td>\n      <td>NaN</td>\n      <td>NaN</td>\n      <td>NaN</td>\n      <td>201.34</td>\n      <td>142</td>\n      <td>281</td>\n      <td>106</td>\n      <td>NaN</td>\n      <td>NaN</td>\n      <td>NaN</td>\n      <td>NaN</td>\n      <td>NaN</td>\n      <td>NaN</td>\n      <td>NaN</td>\n      <td>NaN</td>\n    </tr>\n    <tr>\n      <th>6160</th>\n      <td>NaN</td>\n      <td>NaN</td>\n      <td>NaN</td>\n      <td>NaN</td>\n      <td>201.37</td>\n      <td>142</td>\n      <td>281</td>\n      <td>106</td>\n      <td>NaN</td>\n      <td>NaN</td>\n      <td>NaN</td>\n      <td>NaN</td>\n      <td>NaN</td>\n      <td>NaN</td>\n      <td>NaN</td>\n      <td>NaN</td>\n    </tr>\n    <tr>\n      <th>6161</th>\n      <td>NaN</td>\n      <td>NaN</td>\n      <td>NaN</td>\n      <td>NaN</td>\n      <td>201.41</td>\n      <td>142</td>\n      <td>281</td>\n      <td>106</td>\n      <td>NaN</td>\n      <td>NaN</td>\n      <td>NaN</td>\n      <td>NaN</td>\n      <td>NaN</td>\n      <td>NaN</td>\n      <td>NaN</td>\n      <td>NaN</td>\n    </tr>\n  </tbody>\n</table>\n<p>6162 rows × 16 columns</p>\n</div>"
     },
     "execution_count": 108,
     "metadata": {},
     "output_type": "execute_result"
    }
   ],
   "source": [
    "master_df = pd.concat([A_AgedOpenAirMold, B_AgedOpenAirMold, C_AgedOpenAirMold, D_AgedOpenAirMold], axis=1)\n",
    "master_df"
   ],
   "metadata": {
    "collapsed": false,
    "ExecuteTime": {
     "end_time": "2023-12-01T08:41:18.354567300Z",
     "start_time": "2023-12-01T08:41:18.277102700Z"
    }
   },
   "id": "8b56f5127d61d995"
  },
  {
   "cell_type": "code",
   "execution_count": 109,
   "outputs": [],
   "source": [
    "data_name = 'AgedOpenAirMold'\n",
    "master_df.to_csv(f\"{data_name}.csv\")\n",
    "master_df.to_excel(f\"{data_name}.xlsx\")"
   ],
   "metadata": {
    "collapsed": false,
    "ExecuteTime": {
     "end_time": "2023-12-01T08:42:30.820308900Z",
     "start_time": "2023-12-01T08:42:25.972299500Z"
    }
   },
   "id": "883909f3adcf3fa1"
  },
  {
   "cell_type": "code",
   "execution_count": 23,
   "outputs": [
    {
     "name": "stdout",
     "output_type": "stream",
     "text": [
      "a done\n",
      "b done\n",
      "c done\n",
      "d done\n"
     ]
    }
   ],
   "source": [
    "master_df_a.to_excel(f\"A.xlsx\")\n",
    "print('a done')\n",
    "master_df_b.to_excel(f\"B.xlsx\")\n",
    "print('b done')\n",
    "master_df_c.to_excel(f\"C.xlsx\")\n",
    "print('c done')\n",
    "master_df_d.to_excel(f\"D.xlsx\")\n",
    "print('d done')"
   ],
   "metadata": {
    "collapsed": false,
    "ExecuteTime": {
     "end_time": "2023-12-01T09:38:34.004617400Z",
     "start_time": "2023-12-01T09:38:00.333330200Z"
    }
   },
   "id": "494d517237521504"
  },
  {
   "cell_type": "code",
   "execution_count": 80,
   "outputs": [
    {
     "name": "stdout",
     "output_type": "stream",
     "text": [
      "e done\n",
      "f done\n"
     ]
    }
   ],
   "source": [
    "master_df_E = master_df_b\n",
    "master_df_E.to_excel(f\"E.xlsx\")\n",
    "print('e done')\n",
    "\n",
    "master_df_F = master_df_a\n",
    "master_df_F.to_excel(f\"F.xlsx\")\n",
    "print('f done')"
   ],
   "metadata": {
    "collapsed": false,
    "ExecuteTime": {
     "end_time": "2023-12-01T12:07:13.525847100Z",
     "start_time": "2023-12-01T12:06:57.209056900Z"
    }
   },
   "id": "dc21b230c7d0dc40"
  },
  {
   "cell_type": "code",
   "execution_count": 50,
   "outputs": [
    {
     "name": "stdout",
     "output_type": "stream",
     "text": [
      "d done\n"
     ]
    }
   ],
   "source": [
    "master_df_d.to_excel(f\"D Open Air Mold.xlsx\")\n",
    "print('d done')"
   ],
   "metadata": {
    "collapsed": false,
    "ExecuteTime": {
     "end_time": "2023-12-01T11:38:26.708997200Z",
     "start_time": "2023-12-01T11:38:24.656117500Z"
    }
   },
   "id": "fdb88d9272874849"
  },
  {
   "cell_type": "code",
   "execution_count": 23,
   "outputs": [
    {
     "name": "stdout",
     "output_type": "stream",
     "text": [
      "done\n"
     ]
    }
   ],
   "source": [
    "a = pd.DataFrame(a)\n",
    "a.columns = ['time_A', 'A0', 'A1', 'A2', 'T_A']\n",
    "\n",
    "b = pd.DataFrame(b)\n",
    "b.columns = ['time_B', 'B0', 'B1', 'B2', 'T_B']\n",
    "\n",
    "c = pd.DataFrame(c)\n",
    "c.columns = ['time_C', 'C0', 'C1', 'C2', 'T_C']\n",
    "\n",
    "d = pd.DataFrame(d)\n",
    "d.columns = ['time_D', 'D0', 'D1', 'D2', 'T_D']\n",
    "\n",
    "combined_df = pd.concat([a, b, c, d], axis=1)\n",
    "combined_df.to_excel(f\"aeration4_12-09-23.xlsx\")\n",
    "print('done')"
   ],
   "metadata": {
    "collapsed": false,
    "ExecuteTime": {
     "end_time": "2023-12-09T06:53:22.812953100Z",
     "start_time": "2023-12-09T06:53:18.548924700Z"
    }
   },
   "id": "e88f63397af91462"
  }
 ],
 "metadata": {
  "kernelspec": {
   "display_name": "Python 3",
   "language": "python",
   "name": "python3"
  },
  "language_info": {
   "codemirror_mode": {
    "name": "ipython",
    "version": 2
   },
   "file_extension": ".py",
   "mimetype": "text/x-python",
   "name": "python",
   "nbconvert_exporter": "python",
   "pygments_lexer": "ipython2",
   "version": "2.7.6"
  }
 },
 "nbformat": 4,
 "nbformat_minor": 5
}
