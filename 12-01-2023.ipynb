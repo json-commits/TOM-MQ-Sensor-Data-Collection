{
 "cells": [
  {
   "cell_type": "code",
   "execution_count": 3,
   "outputs": [
    {
     "name": "stdout",
     "output_type": "stream",
     "text": [
      "skipping breaker1_01-17-24.txt...\n",
      "skipping breaker2_01-17-24.txt...\n",
      "skipping breaker3_01-17-24.txt...\n",
      "skipping breaker4_01-17-24.txt...\n",
      "skipping breaker5_01-17-24.txt...\n",
      "skipping breaker6_01-17-24.txt...\n",
      "skipping clean2_01-17-24.txt...\n",
      "importing clean_01-17-24.txt...done\n",
      "\tprocessing...done\n",
      "\tsorting...done\n",
      "\tconverting to dataframe...done\n",
      "\tlabeling columns...done\n",
      "\tconcatenating...done\n",
      "\texporting...done\n",
      "skipping green_bruised_AB1_01-17-24.txt...\n",
      "skipping green_bruised_AB2_01-17-24.txt...\n",
      "skipping green_bruised_CD1_01-17-24.txt...\n",
      "skipping green_bruised_CD2_01-17-24.txt...\n",
      "skipping turning_bruised_1_01-17-24.txt...\n",
      "skipping turning_bruised_2_01-17-24.txt...\n",
      "skipping turning_bruised_3_01-17-24.txt...\n",
      "skipping turning_bruised_4_01-17-24.txt...\n",
      "skipping turning_bruised_5_01-17-24.txt...\n",
      "all done\n"
     ]
    }
   ],
   "source": [
    "import pandas as pd\n",
    "import os\n",
    "\n",
    "master_df_a = pd.DataFrame()\n",
    "master_df_b = pd.DataFrame()\n",
    "master_df_c = pd.DataFrame()\n",
    "master_df_d = pd.DataFrame()\n",
    "\n",
    "# folder path\n",
    "dir_path = f'01-17-2024'\n",
    "\n",
    "# setup list of errored files\n",
    "errored_files = []\n",
    "\n",
    "# get list of files in directory\n",
    "dir_path_files = os.listdir(dir_path)\n",
    "\n",
    "# check if a subdirectory called xlsx exists\n",
    "xlsx_files = []\n",
    "if \"xlsx\" in dir_path_files:\n",
    "    xlsx_files = os.listdir(f'{dir_path}/xlsx')\n",
    "\n",
    "# iterate through each file in directory\n",
    "for file_name in dir_path_files:\n",
    "    \n",
    "    if file_name[-4:] != \".txt\":\n",
    "        continue    \n",
    "    \n",
    "    if f'{file_name[:-4]}.xlsx' in xlsx_files:\n",
    "        print(f\"skipping {file_name}...\")\n",
    "        continue\n",
    "    \n",
    "    # check if current path is a file\n",
    "    current_path = os.path.join(dir_path, file_name)\n",
    "    if os.path.isfile(current_path):\n",
    "        print(f'importing {file_name}...', end='')\n",
    "        with open(f\"{dir_path}/{file_name}\") as file:\n",
    "            readline_file = file.readlines()    # readlines() returns a list of lines in the file\n",
    "            readline_file = [i for i in readline_file if i != \"\\n\"] # remove lines containing only \"\\n\"\n",
    "        print('done')\n",
    "        \n",
    "        print('\\tprocessing...', end='')        \n",
    "        for e, input_line in enumerate(readline_file):  # iterate through each line\n",
    "            try:\n",
    "                input_line = input_line.split(\"\\t\") # split line by tab\n",
    "                readline_file[e] = input_line    # replace line with split line\n",
    "            except IndexError:\n",
    "                print(e)    # print line number of error\n",
    "                raise IndexError\n",
    "        print('done')\n",
    "        \n",
    "        print('\\tsorting...', end='')\n",
    "        # function to convert list of strings to list of integers\n",
    "        def process_list_to_integers(list_of_strings):\n",
    "            if len(list_of_strings) < 5:\n",
    "                list_of_strings.append('nan')\n",
    "            \n",
    "            for i in range(1,4):\n",
    "                # remove first 4 characters \n",
    "                list_of_strings[i] = int(list_of_strings[i][4:]) \n",
    "            try:\n",
    "                # remove first 3 characters and last character\n",
    "                list_of_strings[4] = list_of_strings[4][3:-1]\n",
    "            except IndexError:\n",
    "                print(f\"IndexError on line {list_of_strings}, {list_of_strings[4]}\")\n",
    "                raise IndexError\n",
    "            except ValueError:\n",
    "                print(f\"ValueError on line {list_of_strings}, {list_of_strings[4][3:-1]}\")\n",
    "                raise ValueError\n",
    "            return list_of_strings\n",
    "        \n",
    "        a, b, c, d, e =[[], [], [], [], []]   # initialize lists for each sensor\n",
    "        for i in readline_file: # iterate through each line\n",
    "            try:\n",
    "                if i[1][1] == \"A\":  # if sensor is A\n",
    "                    a.append(process_list_to_integers(i)) # append to list a\n",
    "                elif i[1][1] == \"B\":    # if sensor is B\n",
    "                    b.append(process_list_to_integers(i)) # append to list b\n",
    "                elif i[1][1] == \"C\":    # if sensor is C\n",
    "                    c.append(process_list_to_integers(i)) # append to list c\n",
    "                elif i[1][1] == \"D\":    # if sensor is D\n",
    "                    d.append(process_list_to_integers(i)) # append to list d\n",
    "                # elif i[1][1] == \"E\":    # if sensor is E\n",
    "                #     e.append(process_list_to_integers(i)) # append to list e\n",
    "                else:\n",
    "                    print(f\"error on line {i}\")    # print error if sensor is not A, B, C, or D\n",
    "            except IndexError:\n",
    "                print(f\"IndexError on line {i}\")\n",
    "                continue\n",
    "            except ValueError:\n",
    "                print(f\"ValueError on line {i}\")\n",
    "                continue\n",
    "                \n",
    "        print(\"done\")\n",
    "        \n",
    "        print('\\tconverting to dataframe...', end='')\n",
    "        # convert lists to dataframes\n",
    "        a = pd.DataFrame(a)\n",
    "        b = pd.DataFrame(b)\n",
    "        c = pd.DataFrame(c)\n",
    "        d = pd.DataFrame(d)\n",
    "        # e = pd.DataFrame(e)\n",
    "        \n",
    "        print('done')\n",
    "        \n",
    "        print('\\tlabeling columns...', end='')\n",
    "        try:\n",
    "            # label columns\n",
    "            a.columns = ['time_A', 'A0', 'A1', 'A2', 'T_A']\n",
    "            b.columns = ['time_B', 'B0', 'B1', 'B2', 'T_B']\n",
    "            c.columns = ['time_C', 'C0', 'C1', 'C2', 'T_C']\n",
    "            d.columns = ['time_D', 'D0', 'D1', 'D2', 'T_D']\n",
    "            # e.columns = ['time_E', 'E0', 'E1', 'E2', 'T_E']\n",
    "            \n",
    "        except ValueError:\n",
    "            print(f\"ValueError on file {file_name}\")\n",
    "            errored_files.append(file_name)\n",
    "            continue\n",
    "            \n",
    "        print('done')\n",
    "        \n",
    "        print('\\tconcatenating...', end='')\n",
    "        # concatenate dataframes\n",
    "        master_df = pd.concat([a, b, c, d], axis=1)\n",
    "        print('done')\n",
    "        \n",
    "        print('\\texporting...', end='')\n",
    "        # check if xlsx directory exists\n",
    "        if not os.path.exists(f'{dir_path}/xlsx'):\n",
    "            os.makedirs(f'{dir_path}/xlsx')\n",
    "            \n",
    "        # export to xlsx            \n",
    "        master_df.to_excel(f\"{dir_path}/xlsx/{file_name[:-4]}.xlsx\")\n",
    "        \n",
    "        print('done')\n",
    "print('all done')   \n",
    "if len(errored_files) > 0:\n",
    "    print(f\"errored files: {errored_files}\")"
   ],
   "metadata": {
    "collapsed": false,
    "ExecuteTime": {
     "end_time": "2024-01-18T02:00:00.430438400Z",
     "start_time": "2024-01-18T01:59:59.262267700Z"
    }
   },
   "id": "158f1722aa23e12d"
  },
  {
   "cell_type": "code",
   "execution_count": 42,
   "outputs": [
    {
     "name": "stdout",
     "output_type": "stream",
     "text": [
      "importing Data collection Data/12-13-2023/orange4daybruised4_12-13-23.txt...done\n",
      "\tprocessing...done\n",
      "\tsorting...done\n",
      "\tconverting to dataframe...done\n"
     ]
    }
   ],
   "source": [
    "import pandas as pd\n",
    "file_path = 'Data collection Data/12-13-2023/orange4daybruised4_12-13-23.txt'\n",
    "print(f'importing {file_path}...', end='')\n",
    "with open(f\"{file_path}\") as file:\n",
    "    readline_file = file.readlines()    # readlines() returns a list of lines in the file\n",
    "    readline_file = [i for i in readline_file if i != \"\\n\"] # remove lines containing only \"\\n\"\n",
    "print('done')\n",
    "\n",
    "print('\\tprocessing...', end='')        \n",
    "for e, input_line in enumerate(readline_file):  # iterate through each line\n",
    "    try:\n",
    "        input_line = input_line.split(\"\\t\") # split line by tab\n",
    "        readline_file[e] = input_line    # replace line with split line\n",
    "    except IndexError:\n",
    "        print(e)    # print line number of error\n",
    "        raise IndexError\n",
    "print('done')\n",
    "\n",
    "print('\\tsorting...', end='')\n",
    "# function to convert list of strings to list of integers\n",
    "def process_list_to_integers(list_of_strings):\n",
    "    if len(list_of_strings) < 5:\n",
    "        list_of_strings.append('nan')\n",
    "    \n",
    "    for i in range(1,4):\n",
    "        # remove first 4 characters \n",
    "        list_of_strings[i] = int(list_of_strings[i][4:]) \n",
    "    try:\n",
    "        # remove first 3 characters and last character\n",
    "        list_of_strings[4] = list_of_strings[4][3:-1]\n",
    "    except IndexError:\n",
    "        print(f\"[21] IndexError on line {list_of_strings}, {list_of_strings[4]}\")\n",
    "        raise IndexError\n",
    "    except ValueError:\n",
    "        print(f\"ValueError on line {list_of_strings}, {list_of_strings[4][3:-1]}\")\n",
    "        raise ValueError\n",
    "    return list_of_strings\n",
    "\n",
    "a, b, c, d =[[], [], [], []]   # initialize lists for each sensor\n",
    "for i in readline_file: # iterate through each line\n",
    "    try:\n",
    "        if i[1][1] == \"A\":  # if sensor is A\n",
    "            a.append(process_list_to_integers(i)) # append to list a\n",
    "        elif i[1][1] == \"B\":    # if sensor is B\n",
    "            b.append(process_list_to_integers(i)) # append to list b\n",
    "        elif i[1][1] == \"C\":    # if sensor is C\n",
    "            c.append(process_list_to_integers(i)) # append to list c\n",
    "        elif i[1][1] == \"D\":    # if sensor is D\n",
    "            d.append(process_list_to_integers(i)) # append to list d\n",
    "        else:\n",
    "            print(f\"error on line {i}\")    # print error if sensor is not A, B, C, or D\n",
    "    except IndexError:\n",
    "        print(f\"[49] IndexError on line {i}\")\n",
    "        continue\n",
    "    except ValueError:\n",
    "        print(f\"ValueError on line {i}\")\n",
    "        continue\n",
    "        \n",
    "print(\"done\")\n",
    "\n",
    "print('\\tconverting to dataframe...', end='')\n",
    "# convert lists to dataframes\n",
    "a = pd.DataFrame(a)\n",
    "b = pd.DataFrame(b)\n",
    "c = pd.DataFrame(c)\n",
    "d = pd.DataFrame(d)\n",
    "\n",
    "print('done')"
   ],
   "metadata": {
    "collapsed": false,
    "ExecuteTime": {
     "end_time": "2023-12-14T02:57:08.047669600Z",
     "start_time": "2023-12-14T02:57:07.991263400Z"
    }
   },
   "id": "849bb71503439276"
  },
  {
   "cell_type": "code",
   "execution_count": 47,
   "outputs": [
    {
     "data": {
      "text/plain": "           0   1    2   3    4\n0       1.69  12  211  71  nan\n1       1.61  12  211  71  nan\n2       1.69  12  211  71  nan\n3       0.03  12  211  71  nan\n4       0.05  12  211  71  nan\n...      ...  ..  ...  ..  ...\n1600  119.76  13  210  79  nan\n1601  119.84  13  210  79  nan\n1602  119.92  13  210  79  nan\n1603  120.00  13  210  79  nan\n1604  120.07  13  210  80  nan\n\n[1605 rows x 5 columns]",
      "text/html": "<div>\n<style scoped>\n    .dataframe tbody tr th:only-of-type {\n        vertical-align: middle;\n    }\n\n    .dataframe tbody tr th {\n        vertical-align: top;\n    }\n\n    .dataframe thead th {\n        text-align: right;\n    }\n</style>\n<table border=\"1\" class=\"dataframe\">\n  <thead>\n    <tr style=\"text-align: right;\">\n      <th></th>\n      <th>0</th>\n      <th>1</th>\n      <th>2</th>\n      <th>3</th>\n      <th>4</th>\n    </tr>\n  </thead>\n  <tbody>\n    <tr>\n      <th>0</th>\n      <td>1.69</td>\n      <td>12</td>\n      <td>211</td>\n      <td>71</td>\n      <td>nan</td>\n    </tr>\n    <tr>\n      <th>1</th>\n      <td>1.61</td>\n      <td>12</td>\n      <td>211</td>\n      <td>71</td>\n      <td>nan</td>\n    </tr>\n    <tr>\n      <th>2</th>\n      <td>1.69</td>\n      <td>12</td>\n      <td>211</td>\n      <td>71</td>\n      <td>nan</td>\n    </tr>\n    <tr>\n      <th>3</th>\n      <td>0.03</td>\n      <td>12</td>\n      <td>211</td>\n      <td>71</td>\n      <td>nan</td>\n    </tr>\n    <tr>\n      <th>4</th>\n      <td>0.05</td>\n      <td>12</td>\n      <td>211</td>\n      <td>71</td>\n      <td>nan</td>\n    </tr>\n    <tr>\n      <th>...</th>\n      <td>...</td>\n      <td>...</td>\n      <td>...</td>\n      <td>...</td>\n      <td>...</td>\n    </tr>\n    <tr>\n      <th>1600</th>\n      <td>119.76</td>\n      <td>13</td>\n      <td>210</td>\n      <td>79</td>\n      <td>nan</td>\n    </tr>\n    <tr>\n      <th>1601</th>\n      <td>119.84</td>\n      <td>13</td>\n      <td>210</td>\n      <td>79</td>\n      <td>nan</td>\n    </tr>\n    <tr>\n      <th>1602</th>\n      <td>119.92</td>\n      <td>13</td>\n      <td>210</td>\n      <td>79</td>\n      <td>nan</td>\n    </tr>\n    <tr>\n      <th>1603</th>\n      <td>120.00</td>\n      <td>13</td>\n      <td>210</td>\n      <td>79</td>\n      <td>nan</td>\n    </tr>\n    <tr>\n      <th>1604</th>\n      <td>120.07</td>\n      <td>13</td>\n      <td>210</td>\n      <td>80</td>\n      <td>nan</td>\n    </tr>\n  </tbody>\n</table>\n<p>1605 rows × 5 columns</p>\n</div>"
     },
     "execution_count": 47,
     "metadata": {},
     "output_type": "execute_result"
    }
   ],
   "source": [
    "d"
   ],
   "metadata": {
    "collapsed": false,
    "ExecuteTime": {
     "end_time": "2023-12-14T02:58:02.465157900Z",
     "start_time": "2023-12-14T02:58:02.412441100Z"
    }
   },
   "id": "5c3f6f1dfeda117f"
  },
  {
   "cell_type": "code",
   "execution_count": 1,
   "outputs": [],
   "source": [
    "import pandas as pd\n",
    "\n",
    "master_df_a = pd.DataFrame()\n",
    "master_df_b = pd.DataFrame()\n",
    "master_df_c = pd.DataFrame()\n",
    "master_df_d = pd.DataFrame()"
   ],
   "metadata": {
    "collapsed": false,
    "ExecuteTime": {
     "end_time": "2023-12-09T05:12:41.684328300Z",
     "start_time": "2023-12-09T05:12:41.673875400Z"
    }
   },
   "id": "c114fac66ccb3940"
  },
  {
   "cell_type": "code",
   "execution_count": 22,
   "id": "initial_id",
   "metadata": {
    "collapsed": true,
    "ExecuteTime": {
     "end_time": "2023-12-09T06:53:04.254482700Z",
     "start_time": "2023-12-09T06:53:04.166096600Z"
    }
   },
   "outputs": [
    {
     "name": "stdout",
     "output_type": "stream",
     "text": [
      "importing...done\n",
      "processing...done\n",
      "sorting...done\n"
     ]
    }
   ],
   "source": [
    "print('importing...', end='')\n",
    "x = \"\"\n",
    "file_name = \"aeration4_12-09-23.txt\"\n",
    "# with open(f\"raw_data (12-05-2023)/{file_name}\") as file:\n",
    "with open(f\"{file_name}\") as file:\n",
    "    x = file.readlines()\n",
    "\n",
    "x = [i for i in x if i != \"\\n\"]\n",
    "print('done')\n",
    "\n",
    "print('processing...', end='')\n",
    "def process(x1):\n",
    "    x1[3] = x1[3][:]\n",
    "    return x1\n",
    "    \n",
    "# [process(x) for i in x]\n",
    "# out = [process(x1.split(\"\\t\")) for x1 in x]\n",
    "\n",
    "out = []\n",
    "for e, x1 in enumerate(x):\n",
    "    try:\n",
    "        out.append(process(x1.split(\"\\t\")))\n",
    "    except IndexError:\n",
    "        print(e)\n",
    "        raise IndexError\n",
    "\n",
    "print('done')\n",
    "\n",
    "print('sorting...', end='')\n",
    "def process2(x1):\n",
    "    for i in range(1,4):\n",
    "        x1[i] = x1[i][4:]\n",
    "    try:\n",
    "        x1[4] = x1[4][3:-1]\n",
    "    except IndexError:\n",
    "        pass\n",
    "    return x1\n",
    "\n",
    "a = []\n",
    "b = []\n",
    "c = []\n",
    "d = []\n",
    "\n",
    "for i in out:\n",
    "    if i[1][1] == \"A\":\n",
    "        a.append(process2(i))\n",
    "    elif i[1][1] == \"B\":\n",
    "        b.append(process2(i))\n",
    "    elif i[1][1] == \"C\":\n",
    "        c.append(process2(i))\n",
    "    elif i[1][1] == \"D\":\n",
    "        d.append(process2(i))\n",
    "    else:\n",
    "        print(\"error\")\n",
    "        \n",
    "print(\"done\")\n"
   ]
  },
  {
   "cell_type": "code",
   "execution_count": 112,
   "outputs": [
    {
     "data": {
      "text/plain": "'109.72\\t122\\n'"
     },
     "execution_count": 112,
     "metadata": {},
     "output_type": "execute_result"
    }
   ],
   "source": [
    "x[6177]"
   ],
   "metadata": {
    "collapsed": false,
    "ExecuteTime": {
     "end_time": "2023-12-05T03:45:33.498985400Z",
     "start_time": "2023-12-05T03:45:33.420645Z"
    }
   },
   "id": "21f1c0ba7b105e8c"
  },
  {
   "cell_type": "code",
   "execution_count": 6,
   "outputs": [
    {
     "data": {
      "text/plain": "['0.03', '16', '212', '52', '25.80']"
     },
     "execution_count": 6,
     "metadata": {},
     "output_type": "execute_result"
    }
   ],
   "source": [
    "a[0]"
   ],
   "metadata": {
    "collapsed": false,
    "ExecuteTime": {
     "end_time": "2023-12-09T05:14:33.818959Z",
     "start_time": "2023-12-09T05:14:33.802656400Z"
    }
   },
   "id": "8efad18214e40463"
  },
  {
   "cell_type": "code",
   "execution_count": 110,
   "outputs": [
    {
     "data": {
      "text/plain": "           0   1    2    3\n0       0.01  65  290  172\n1       0.03  65  290  172\n2       0.09  65  290  172\n3       0.15  65  289  172\n4       0.21  65  290  172\n...      ...  ..  ...  ...\n2070  157.16  49  288  157\n2071  157.22  49  288  156\n2072  157.29  49  288  157\n2073  157.35  48  288  156\n2074  157.41  49  288  157\n\n[2075 rows x 4 columns]",
      "text/html": "<div>\n<style scoped>\n    .dataframe tbody tr th:only-of-type {\n        vertical-align: middle;\n    }\n\n    .dataframe tbody tr th {\n        vertical-align: top;\n    }\n\n    .dataframe thead th {\n        text-align: right;\n    }\n</style>\n<table border=\"1\" class=\"dataframe\">\n  <thead>\n    <tr style=\"text-align: right;\">\n      <th></th>\n      <th>0</th>\n      <th>1</th>\n      <th>2</th>\n      <th>3</th>\n    </tr>\n  </thead>\n  <tbody>\n    <tr>\n      <th>0</th>\n      <td>0.01</td>\n      <td>65</td>\n      <td>290</td>\n      <td>172</td>\n    </tr>\n    <tr>\n      <th>1</th>\n      <td>0.03</td>\n      <td>65</td>\n      <td>290</td>\n      <td>172</td>\n    </tr>\n    <tr>\n      <th>2</th>\n      <td>0.09</td>\n      <td>65</td>\n      <td>290</td>\n      <td>172</td>\n    </tr>\n    <tr>\n      <th>3</th>\n      <td>0.15</td>\n      <td>65</td>\n      <td>289</td>\n      <td>172</td>\n    </tr>\n    <tr>\n      <th>4</th>\n      <td>0.21</td>\n      <td>65</td>\n      <td>290</td>\n      <td>172</td>\n    </tr>\n    <tr>\n      <th>...</th>\n      <td>...</td>\n      <td>...</td>\n      <td>...</td>\n      <td>...</td>\n    </tr>\n    <tr>\n      <th>2070</th>\n      <td>157.16</td>\n      <td>49</td>\n      <td>288</td>\n      <td>157</td>\n    </tr>\n    <tr>\n      <th>2071</th>\n      <td>157.22</td>\n      <td>49</td>\n      <td>288</td>\n      <td>156</td>\n    </tr>\n    <tr>\n      <th>2072</th>\n      <td>157.29</td>\n      <td>49</td>\n      <td>288</td>\n      <td>157</td>\n    </tr>\n    <tr>\n      <th>2073</th>\n      <td>157.35</td>\n      <td>48</td>\n      <td>288</td>\n      <td>156</td>\n    </tr>\n    <tr>\n      <th>2074</th>\n      <td>157.41</td>\n      <td>49</td>\n      <td>288</td>\n      <td>157</td>\n    </tr>\n  </tbody>\n</table>\n<p>2075 rows × 4 columns</p>\n</div>"
     },
     "execution_count": 110,
     "metadata": {},
     "output_type": "execute_result"
    }
   ],
   "source": [
    "import pandas as pd\n",
    "\n",
    "pd.DataFrame(a)"
   ],
   "metadata": {
    "collapsed": false,
    "ExecuteTime": {
     "end_time": "2023-12-05T03:45:14.427152800Z",
     "start_time": "2023-12-05T03:45:14.376034500Z"
    }
   },
   "id": "3cace265b853265b"
  },
  {
   "cell_type": "code",
   "execution_count": 72,
   "outputs": [],
   "source": [
    "a_data_name = \"Green_2\"\n",
    "b_data_name = a_data_name\n",
    "c_data_name = a_data_name\n",
    "d_data_name = a_data_name"
   ],
   "metadata": {
    "collapsed": false,
    "ExecuteTime": {
     "end_time": "2023-12-05T03:30:24.623799200Z",
     "start_time": "2023-12-05T03:30:24.607908200Z"
    }
   },
   "id": "c6df11547212a126"
  },
  {
   "cell_type": "code",
   "execution_count": 73,
   "outputs": [
    {
     "name": "stdout",
     "output_type": "stream",
     "text": [
      "found a as Green_2\n",
      "found b as Green_2\n",
      "found c as Green_2\n",
      "found d as Green_2\n"
     ]
    }
   ],
   "source": [
    "import pandas as pd\n",
    "# \"C-F_SealedTupperware D-E_SealedPlastic.txt\"\n",
    "# a_data_name = \"F_SealedTupperware\"[2:]\n",
    "# b_data_name = \"E_SealedPlastic\"[2:]\n",
    "# c_data_name = \"\"[2:]\n",
    "# d_data_name = \"\"[2:]\n",
    "\n",
    "if a_data_name != \"\":\n",
    "    print(f\"found a as {a_data_name}\")\n",
    "    df_a = pd.DataFrame(a)\n",
    "    df_a.columns = [f'time_{a_data_name}', f'A0_{a_data_name}', f'A1_{a_data_name}', f'A2_{a_data_name}']\n",
    "    master_df_a = pd.concat([master_df_a, df_a], axis=1)\n",
    "\n",
    "if b_data_name != \"\":\n",
    "    print(f\"found b as {b_data_name}\")\n",
    "    df_b = pd.DataFrame(b) \n",
    "    df_b.columns = [f'time_{b_data_name}', f'B0_{b_data_name}', f'B1_{b_data_name}', f'B2_{b_data_name}']\n",
    "    master_df_b = pd.concat([master_df_b, df_b], axis=1)\n",
    "\n",
    "if c_data_name != \"\":\n",
    "    print(f\"found c as {c_data_name}\")\n",
    "    df_c = pd.DataFrame(c)\n",
    "    df_c.columns = [f'time_{c_data_name}', f'C0_{c_data_name}', f'C1_{c_data_name}', f'C2_{c_data_name}']\n",
    "    master_df_c = pd.concat([master_df_c, df_c], axis=1)\n",
    "\n",
    "if d_data_name != \"\":\n",
    "    print(f\"found d as {d_data_name}\")\n",
    "    df_d = pd.DataFrame(d)\n",
    "    df_d.columns = [f'time_{d_data_name}', f'D0_{d_data_name}', f'D1_{d_data_name}', f'D2_{d_data_name}', f'T_{d_data_name}']\n",
    "    master_df_d = pd.concat([master_df_d, df_d], axis=1)\n"
   ],
   "metadata": {
    "collapsed": false,
    "ExecuteTime": {
     "end_time": "2023-12-05T03:30:27.065853Z",
     "start_time": "2023-12-05T03:30:27.037243100Z"
    }
   },
   "id": "61d6d25b0ea35a32"
  },
  {
   "cell_type": "code",
   "execution_count": 75,
   "outputs": [
    {
     "data": {
      "text/plain": "     time_Green_2 A0_Green_2 A1_Green_2 A2_Green_2\n0            0.01         77        307        182\n1            0.03         77        307        182\n2            0.09         77        307        182\n3            0.15         77        307        182\n4            0.21         77        307        183\n...           ...        ...        ...        ...\n2002       152.77         74        305        169\n2003       152.84         74        305        169\n2004       152.90         74        305        169\n2005       152.97         74        305        169\n2006       153.03         74        305        169\n\n[2007 rows x 4 columns]",
      "text/html": "<div>\n<style scoped>\n    .dataframe tbody tr th:only-of-type {\n        vertical-align: middle;\n    }\n\n    .dataframe tbody tr th {\n        vertical-align: top;\n    }\n\n    .dataframe thead th {\n        text-align: right;\n    }\n</style>\n<table border=\"1\" class=\"dataframe\">\n  <thead>\n    <tr style=\"text-align: right;\">\n      <th></th>\n      <th>time_Green_2</th>\n      <th>A0_Green_2</th>\n      <th>A1_Green_2</th>\n      <th>A2_Green_2</th>\n    </tr>\n  </thead>\n  <tbody>\n    <tr>\n      <th>0</th>\n      <td>0.01</td>\n      <td>77</td>\n      <td>307</td>\n      <td>182</td>\n    </tr>\n    <tr>\n      <th>1</th>\n      <td>0.03</td>\n      <td>77</td>\n      <td>307</td>\n      <td>182</td>\n    </tr>\n    <tr>\n      <th>2</th>\n      <td>0.09</td>\n      <td>77</td>\n      <td>307</td>\n      <td>182</td>\n    </tr>\n    <tr>\n      <th>3</th>\n      <td>0.15</td>\n      <td>77</td>\n      <td>307</td>\n      <td>182</td>\n    </tr>\n    <tr>\n      <th>4</th>\n      <td>0.21</td>\n      <td>77</td>\n      <td>307</td>\n      <td>183</td>\n    </tr>\n    <tr>\n      <th>...</th>\n      <td>...</td>\n      <td>...</td>\n      <td>...</td>\n      <td>...</td>\n    </tr>\n    <tr>\n      <th>2002</th>\n      <td>152.77</td>\n      <td>74</td>\n      <td>305</td>\n      <td>169</td>\n    </tr>\n    <tr>\n      <th>2003</th>\n      <td>152.84</td>\n      <td>74</td>\n      <td>305</td>\n      <td>169</td>\n    </tr>\n    <tr>\n      <th>2004</th>\n      <td>152.90</td>\n      <td>74</td>\n      <td>305</td>\n      <td>169</td>\n    </tr>\n    <tr>\n      <th>2005</th>\n      <td>152.97</td>\n      <td>74</td>\n      <td>305</td>\n      <td>169</td>\n    </tr>\n    <tr>\n      <th>2006</th>\n      <td>153.03</td>\n      <td>74</td>\n      <td>305</td>\n      <td>169</td>\n    </tr>\n  </tbody>\n</table>\n<p>2007 rows × 4 columns</p>\n</div>"
     },
     "execution_count": 75,
     "metadata": {},
     "output_type": "execute_result"
    }
   ],
   "source": [
    "master_df_a"
   ],
   "metadata": {
    "collapsed": false,
    "ExecuteTime": {
     "end_time": "2023-12-05T03:30:39.626213900Z",
     "start_time": "2023-12-05T03:30:39.571573Z"
    }
   },
   "id": "ddb566f74e51b70e"
  },
  {
   "cell_type": "code",
   "execution_count": 103,
   "outputs": [
    {
     "data": {
      "text/plain": "      time_A  A0   A1   A2\n0       0.00  44  356  102\n1       0.01  44  356  102\n2       0.02  44  356  102\n3       0.03  44  356  102\n4       0.06  44  356  102\n...      ...  ..  ...  ...\n6157  189.88  43  356   94\n6158  189.91  43  356   94\n6159  189.94  43  356   94\n6160  189.97  43  356   94\n6161  190.00  43  356   94\n\n[6162 rows x 4 columns]",
      "text/html": "<div>\n<style scoped>\n    .dataframe tbody tr th:only-of-type {\n        vertical-align: middle;\n    }\n\n    .dataframe tbody tr th {\n        vertical-align: top;\n    }\n\n    .dataframe thead th {\n        text-align: right;\n    }\n</style>\n<table border=\"1\" class=\"dataframe\">\n  <thead>\n    <tr style=\"text-align: right;\">\n      <th></th>\n      <th>time_A</th>\n      <th>A0</th>\n      <th>A1</th>\n      <th>A2</th>\n    </tr>\n  </thead>\n  <tbody>\n    <tr>\n      <th>0</th>\n      <td>0.00</td>\n      <td>44</td>\n      <td>356</td>\n      <td>102</td>\n    </tr>\n    <tr>\n      <th>1</th>\n      <td>0.01</td>\n      <td>44</td>\n      <td>356</td>\n      <td>102</td>\n    </tr>\n    <tr>\n      <th>2</th>\n      <td>0.02</td>\n      <td>44</td>\n      <td>356</td>\n      <td>102</td>\n    </tr>\n    <tr>\n      <th>3</th>\n      <td>0.03</td>\n      <td>44</td>\n      <td>356</td>\n      <td>102</td>\n    </tr>\n    <tr>\n      <th>4</th>\n      <td>0.06</td>\n      <td>44</td>\n      <td>356</td>\n      <td>102</td>\n    </tr>\n    <tr>\n      <th>...</th>\n      <td>...</td>\n      <td>...</td>\n      <td>...</td>\n      <td>...</td>\n    </tr>\n    <tr>\n      <th>6157</th>\n      <td>189.88</td>\n      <td>43</td>\n      <td>356</td>\n      <td>94</td>\n    </tr>\n    <tr>\n      <th>6158</th>\n      <td>189.91</td>\n      <td>43</td>\n      <td>356</td>\n      <td>94</td>\n    </tr>\n    <tr>\n      <th>6159</th>\n      <td>189.94</td>\n      <td>43</td>\n      <td>356</td>\n      <td>94</td>\n    </tr>\n    <tr>\n      <th>6160</th>\n      <td>189.97</td>\n      <td>43</td>\n      <td>356</td>\n      <td>94</td>\n    </tr>\n    <tr>\n      <th>6161</th>\n      <td>190.00</td>\n      <td>43</td>\n      <td>356</td>\n      <td>94</td>\n    </tr>\n  </tbody>\n</table>\n<p>6162 rows × 4 columns</p>\n</div>"
     },
     "execution_count": 103,
     "metadata": {},
     "output_type": "execute_result"
    }
   ],
   "source": [
    "import pandas as pd\n",
    "sensor_label = 'A'\n",
    "\n",
    "#!!\n",
    "df = pd.DataFrame(a)\n",
    "# df.columns = [f'time_{sensor_label}_{data_name}', f'{sensor_label}0_{data_name}', \n",
    "#               f'{sensor_label}1_{data_name}', f'{sensor_label}2_{data_name}']\n",
    "\n",
    "\n",
    "df.columns = [f'time_{sensor_label}', f'{sensor_label}0', f'{sensor_label}1', f'{sensor_label}2']\n",
    "\n",
    "A_AgedOpenAir = df\n",
    "\n",
    "df\n",
    "\n",
    "def label_columns()"
   ],
   "metadata": {
    "collapsed": false,
    "ExecuteTime": {
     "end_time": "2023-12-01T08:39:01.356064300Z",
     "start_time": "2023-12-01T08:39:01.309829100Z"
    }
   },
   "id": "a411aa981fd98d45"
  },
  {
   "cell_type": "code",
   "execution_count": 104,
   "outputs": [],
   "source": [
    "master_df = pd.DataFrame()"
   ],
   "metadata": {
    "collapsed": false,
    "ExecuteTime": {
     "end_time": "2023-12-01T08:39:05.068660500Z",
     "start_time": "2023-12-01T08:39:05.058508300Z"
    }
   },
   "id": "683b4bf1294f652b"
  },
  {
   "cell_type": "code",
   "execution_count": 108,
   "outputs": [
    {
     "data": {
      "text/plain": "     time_A   A0   A1   A2  time_B   B0   B1   B2 time_C   C0   C1   C2  \\\n0      0.00   50  379  110    0.00  143  289  105   0.00   55  143  374   \n1      0.01   50  380  110    0.01  143  289  105   0.01   55  143  374   \n2      0.02   50  380  110    0.02  143  289  105   0.02   56  143  374   \n3      0.03   50  380  110    0.03  143  289  105   0.03   55  143  374   \n4      0.06   50  380  110    0.07  143  289  105   0.06   55  143  374   \n...     ...  ...  ...  ...     ...  ...  ...  ...    ...  ...  ...  ...   \n6157    NaN  NaN  NaN  NaN  201.27  142  281  106    NaN  NaN  NaN  NaN   \n6158    NaN  NaN  NaN  NaN  201.31  142  281  106    NaN  NaN  NaN  NaN   \n6159    NaN  NaN  NaN  NaN  201.34  142  281  106    NaN  NaN  NaN  NaN   \n6160    NaN  NaN  NaN  NaN  201.37  142  281  106    NaN  NaN  NaN  NaN   \n6161    NaN  NaN  NaN  NaN  201.41  142  281  106    NaN  NaN  NaN  NaN   \n\n     time_D   D0   D1   D2  \n0      0.00   35  258  108  \n1      0.01   34  258  108  \n2      0.02   35  258  108  \n3      0.03   34  258  108  \n4      0.06   34  258  108  \n...     ...  ...  ...  ...  \n6157    NaN  NaN  NaN  NaN  \n6158    NaN  NaN  NaN  NaN  \n6159    NaN  NaN  NaN  NaN  \n6160    NaN  NaN  NaN  NaN  \n6161    NaN  NaN  NaN  NaN  \n\n[6162 rows x 16 columns]",
      "text/html": "<div>\n<style scoped>\n    .dataframe tbody tr th:only-of-type {\n        vertical-align: middle;\n    }\n\n    .dataframe tbody tr th {\n        vertical-align: top;\n    }\n\n    .dataframe thead th {\n        text-align: right;\n    }\n</style>\n<table border=\"1\" class=\"dataframe\">\n  <thead>\n    <tr style=\"text-align: right;\">\n      <th></th>\n      <th>time_A</th>\n      <th>A0</th>\n      <th>A1</th>\n      <th>A2</th>\n      <th>time_B</th>\n      <th>B0</th>\n      <th>B1</th>\n      <th>B2</th>\n      <th>time_C</th>\n      <th>C0</th>\n      <th>C1</th>\n      <th>C2</th>\n      <th>time_D</th>\n      <th>D0</th>\n      <th>D1</th>\n      <th>D2</th>\n    </tr>\n  </thead>\n  <tbody>\n    <tr>\n      <th>0</th>\n      <td>0.00</td>\n      <td>50</td>\n      <td>379</td>\n      <td>110</td>\n      <td>0.00</td>\n      <td>143</td>\n      <td>289</td>\n      <td>105</td>\n      <td>0.00</td>\n      <td>55</td>\n      <td>143</td>\n      <td>374</td>\n      <td>0.00</td>\n      <td>35</td>\n      <td>258</td>\n      <td>108</td>\n    </tr>\n    <tr>\n      <th>1</th>\n      <td>0.01</td>\n      <td>50</td>\n      <td>380</td>\n      <td>110</td>\n      <td>0.01</td>\n      <td>143</td>\n      <td>289</td>\n      <td>105</td>\n      <td>0.01</td>\n      <td>55</td>\n      <td>143</td>\n      <td>374</td>\n      <td>0.01</td>\n      <td>34</td>\n      <td>258</td>\n      <td>108</td>\n    </tr>\n    <tr>\n      <th>2</th>\n      <td>0.02</td>\n      <td>50</td>\n      <td>380</td>\n      <td>110</td>\n      <td>0.02</td>\n      <td>143</td>\n      <td>289</td>\n      <td>105</td>\n      <td>0.02</td>\n      <td>56</td>\n      <td>143</td>\n      <td>374</td>\n      <td>0.02</td>\n      <td>35</td>\n      <td>258</td>\n      <td>108</td>\n    </tr>\n    <tr>\n      <th>3</th>\n      <td>0.03</td>\n      <td>50</td>\n      <td>380</td>\n      <td>110</td>\n      <td>0.03</td>\n      <td>143</td>\n      <td>289</td>\n      <td>105</td>\n      <td>0.03</td>\n      <td>55</td>\n      <td>143</td>\n      <td>374</td>\n      <td>0.03</td>\n      <td>34</td>\n      <td>258</td>\n      <td>108</td>\n    </tr>\n    <tr>\n      <th>4</th>\n      <td>0.06</td>\n      <td>50</td>\n      <td>380</td>\n      <td>110</td>\n      <td>0.07</td>\n      <td>143</td>\n      <td>289</td>\n      <td>105</td>\n      <td>0.06</td>\n      <td>55</td>\n      <td>143</td>\n      <td>374</td>\n      <td>0.06</td>\n      <td>34</td>\n      <td>258</td>\n      <td>108</td>\n    </tr>\n    <tr>\n      <th>...</th>\n      <td>...</td>\n      <td>...</td>\n      <td>...</td>\n      <td>...</td>\n      <td>...</td>\n      <td>...</td>\n      <td>...</td>\n      <td>...</td>\n      <td>...</td>\n      <td>...</td>\n      <td>...</td>\n      <td>...</td>\n      <td>...</td>\n      <td>...</td>\n      <td>...</td>\n      <td>...</td>\n    </tr>\n    <tr>\n      <th>6157</th>\n      <td>NaN</td>\n      <td>NaN</td>\n      <td>NaN</td>\n      <td>NaN</td>\n      <td>201.27</td>\n      <td>142</td>\n      <td>281</td>\n      <td>106</td>\n      <td>NaN</td>\n      <td>NaN</td>\n      <td>NaN</td>\n      <td>NaN</td>\n      <td>NaN</td>\n      <td>NaN</td>\n      <td>NaN</td>\n      <td>NaN</td>\n    </tr>\n    <tr>\n      <th>6158</th>\n      <td>NaN</td>\n      <td>NaN</td>\n      <td>NaN</td>\n      <td>NaN</td>\n      <td>201.31</td>\n      <td>142</td>\n      <td>281</td>\n      <td>106</td>\n      <td>NaN</td>\n      <td>NaN</td>\n      <td>NaN</td>\n      <td>NaN</td>\n      <td>NaN</td>\n      <td>NaN</td>\n      <td>NaN</td>\n      <td>NaN</td>\n    </tr>\n    <tr>\n      <th>6159</th>\n      <td>NaN</td>\n      <td>NaN</td>\n      <td>NaN</td>\n      <td>NaN</td>\n      <td>201.34</td>\n      <td>142</td>\n      <td>281</td>\n      <td>106</td>\n      <td>NaN</td>\n      <td>NaN</td>\n      <td>NaN</td>\n      <td>NaN</td>\n      <td>NaN</td>\n      <td>NaN</td>\n      <td>NaN</td>\n      <td>NaN</td>\n    </tr>\n    <tr>\n      <th>6160</th>\n      <td>NaN</td>\n      <td>NaN</td>\n      <td>NaN</td>\n      <td>NaN</td>\n      <td>201.37</td>\n      <td>142</td>\n      <td>281</td>\n      <td>106</td>\n      <td>NaN</td>\n      <td>NaN</td>\n      <td>NaN</td>\n      <td>NaN</td>\n      <td>NaN</td>\n      <td>NaN</td>\n      <td>NaN</td>\n      <td>NaN</td>\n    </tr>\n    <tr>\n      <th>6161</th>\n      <td>NaN</td>\n      <td>NaN</td>\n      <td>NaN</td>\n      <td>NaN</td>\n      <td>201.41</td>\n      <td>142</td>\n      <td>281</td>\n      <td>106</td>\n      <td>NaN</td>\n      <td>NaN</td>\n      <td>NaN</td>\n      <td>NaN</td>\n      <td>NaN</td>\n      <td>NaN</td>\n      <td>NaN</td>\n      <td>NaN</td>\n    </tr>\n  </tbody>\n</table>\n<p>6162 rows × 16 columns</p>\n</div>"
     },
     "execution_count": 108,
     "metadata": {},
     "output_type": "execute_result"
    }
   ],
   "source": [
    "master_df = pd.concat([A_AgedOpenAirMold, B_AgedOpenAirMold, C_AgedOpenAirMold, D_AgedOpenAirMold], axis=1)\n",
    "master_df"
   ],
   "metadata": {
    "collapsed": false,
    "ExecuteTime": {
     "end_time": "2023-12-01T08:41:18.354567300Z",
     "start_time": "2023-12-01T08:41:18.277102700Z"
    }
   },
   "id": "8b56f5127d61d995"
  },
  {
   "cell_type": "code",
   "execution_count": 109,
   "outputs": [],
   "source": [
    "data_name = 'AgedOpenAirMold'\n",
    "master_df.to_csv(f\"{data_name}.csv\")\n",
    "master_df.to_excel(f\"{data_name}.xlsx\")"
   ],
   "metadata": {
    "collapsed": false,
    "ExecuteTime": {
     "end_time": "2023-12-01T08:42:30.820308900Z",
     "start_time": "2023-12-01T08:42:25.972299500Z"
    }
   },
   "id": "883909f3adcf3fa1"
  },
  {
   "cell_type": "code",
   "execution_count": 23,
   "outputs": [
    {
     "name": "stdout",
     "output_type": "stream",
     "text": [
      "a done\n",
      "b done\n",
      "c done\n",
      "d done\n"
     ]
    }
   ],
   "source": [
    "master_df_a.to_excel(f\"A.xlsx\")\n",
    "print('a done')\n",
    "master_df_b.to_excel(f\"B.xlsx\")\n",
    "print('b done')\n",
    "master_df_c.to_excel(f\"C.xlsx\")\n",
    "print('c done')\n",
    "master_df_d.to_excel(f\"D.xlsx\")\n",
    "print('d done')"
   ],
   "metadata": {
    "collapsed": false,
    "ExecuteTime": {
     "end_time": "2023-12-01T09:38:34.004617400Z",
     "start_time": "2023-12-01T09:38:00.333330200Z"
    }
   },
   "id": "494d517237521504"
  },
  {
   "cell_type": "code",
   "execution_count": 80,
   "outputs": [
    {
     "name": "stdout",
     "output_type": "stream",
     "text": [
      "e done\n",
      "f done\n"
     ]
    }
   ],
   "source": [
    "master_df_E = master_df_b\n",
    "master_df_E.to_excel(f\"E.xlsx\")\n",
    "print('e done')\n",
    "\n",
    "master_df_F = master_df_a\n",
    "master_df_F.to_excel(f\"F.xlsx\")\n",
    "print('f done')"
   ],
   "metadata": {
    "collapsed": false,
    "ExecuteTime": {
     "end_time": "2023-12-01T12:07:13.525847100Z",
     "start_time": "2023-12-01T12:06:57.209056900Z"
    }
   },
   "id": "dc21b230c7d0dc40"
  },
  {
   "cell_type": "code",
   "execution_count": 50,
   "outputs": [
    {
     "name": "stdout",
     "output_type": "stream",
     "text": [
      "d done\n"
     ]
    }
   ],
   "source": [
    "master_df_d.to_excel(f\"D Open Air Mold.xlsx\")\n",
    "print('d done')"
   ],
   "metadata": {
    "collapsed": false,
    "ExecuteTime": {
     "end_time": "2023-12-01T11:38:26.708997200Z",
     "start_time": "2023-12-01T11:38:24.656117500Z"
    }
   },
   "id": "fdb88d9272874849"
  },
  {
   "cell_type": "code",
   "execution_count": 23,
   "outputs": [
    {
     "name": "stdout",
     "output_type": "stream",
     "text": [
      "done\n"
     ]
    }
   ],
   "source": [
    "a = pd.DataFrame(a)\n",
    "a.columns = ['time_A', 'A0', 'A1', 'A2', 'T_A']\n",
    "\n",
    "b = pd.DataFrame(b)\n",
    "b.columns = ['time_B', 'B0', 'B1', 'B2', 'T_B']\n",
    "\n",
    "c = pd.DataFrame(c)\n",
    "c.columns = ['time_C', 'C0', 'C1', 'C2', 'T_C']\n",
    "\n",
    "d = pd.DataFrame(d)\n",
    "d.columns = ['time_D', 'D0', 'D1', 'D2', 'T_D']\n",
    "\n",
    "combined_df = pd.concat([a, b, c, d], axis=1)\n",
    "combined_df.to_excel(f\"aeration4_12-09-23.xlsx\")\n",
    "print('done')"
   ],
   "metadata": {
    "collapsed": false,
    "ExecuteTime": {
     "end_time": "2023-12-09T06:53:22.812953100Z",
     "start_time": "2023-12-09T06:53:18.548924700Z"
    }
   },
   "id": "e88f63397af91462"
  },
  {
   "cell_type": "code",
   "execution_count": 31,
   "outputs": [
    {
     "data": {
      "text/plain": "         Unnamed: 0    time  value data_label              file_origin  \\\n0                 0    0.10   27.0    breaker  breaker10_12-11-23.xlsx   \n1                 1    0.17   27.0    breaker  breaker10_12-11-23.xlsx   \n2                 2    0.25   27.0    breaker  breaker10_12-11-23.xlsx   \n3                 3    0.32   27.0    breaker  breaker10_12-11-23.xlsx   \n4                 4    0.40   27.0    breaker  breaker10_12-11-23.xlsx   \n...             ...     ...    ...        ...                      ...   \n3998315        1597  119.76    NaN    turning   turning9_12-12-23.xlsx   \n3998316        1598  119.84    NaN    turning   turning9_12-12-23.xlsx   \n3998317        1599  119.92    NaN    turning   turning9_12-12-23.xlsx   \n3998318        1600  120.00    NaN    turning   turning9_12-12-23.xlsx   \n3998319        1601  120.07    NaN    turning   turning9_12-12-23.xlsx   \n\n        sensor_label sensor_number date_collected  \n0                  A             0       12-11-23  \n1                  A             0       12-11-23  \n2                  A             0       12-11-23  \n3                  A             0       12-11-23  \n4                  A             0       12-11-23  \n...              ...           ...            ...  \n3998315            D             T       12-12-23  \n3998316            D             T       12-12-23  \n3998317            D             T       12-12-23  \n3998318            D             T       12-12-23  \n3998319            D             T       12-12-23  \n\n[3998320 rows x 8 columns]",
      "text/html": "<div>\n<style scoped>\n    .dataframe tbody tr th:only-of-type {\n        vertical-align: middle;\n    }\n\n    .dataframe tbody tr th {\n        vertical-align: top;\n    }\n\n    .dataframe thead th {\n        text-align: right;\n    }\n</style>\n<table border=\"1\" class=\"dataframe\">\n  <thead>\n    <tr style=\"text-align: right;\">\n      <th></th>\n      <th>Unnamed: 0</th>\n      <th>time</th>\n      <th>value</th>\n      <th>data_label</th>\n      <th>file_origin</th>\n      <th>sensor_label</th>\n      <th>sensor_number</th>\n      <th>date_collected</th>\n    </tr>\n  </thead>\n  <tbody>\n    <tr>\n      <th>0</th>\n      <td>0</td>\n      <td>0.10</td>\n      <td>27.0</td>\n      <td>breaker</td>\n      <td>breaker10_12-11-23.xlsx</td>\n      <td>A</td>\n      <td>0</td>\n      <td>12-11-23</td>\n    </tr>\n    <tr>\n      <th>1</th>\n      <td>1</td>\n      <td>0.17</td>\n      <td>27.0</td>\n      <td>breaker</td>\n      <td>breaker10_12-11-23.xlsx</td>\n      <td>A</td>\n      <td>0</td>\n      <td>12-11-23</td>\n    </tr>\n    <tr>\n      <th>2</th>\n      <td>2</td>\n      <td>0.25</td>\n      <td>27.0</td>\n      <td>breaker</td>\n      <td>breaker10_12-11-23.xlsx</td>\n      <td>A</td>\n      <td>0</td>\n      <td>12-11-23</td>\n    </tr>\n    <tr>\n      <th>3</th>\n      <td>3</td>\n      <td>0.32</td>\n      <td>27.0</td>\n      <td>breaker</td>\n      <td>breaker10_12-11-23.xlsx</td>\n      <td>A</td>\n      <td>0</td>\n      <td>12-11-23</td>\n    </tr>\n    <tr>\n      <th>4</th>\n      <td>4</td>\n      <td>0.40</td>\n      <td>27.0</td>\n      <td>breaker</td>\n      <td>breaker10_12-11-23.xlsx</td>\n      <td>A</td>\n      <td>0</td>\n      <td>12-11-23</td>\n    </tr>\n    <tr>\n      <th>...</th>\n      <td>...</td>\n      <td>...</td>\n      <td>...</td>\n      <td>...</td>\n      <td>...</td>\n      <td>...</td>\n      <td>...</td>\n      <td>...</td>\n    </tr>\n    <tr>\n      <th>3998315</th>\n      <td>1597</td>\n      <td>119.76</td>\n      <td>NaN</td>\n      <td>turning</td>\n      <td>turning9_12-12-23.xlsx</td>\n      <td>D</td>\n      <td>T</td>\n      <td>12-12-23</td>\n    </tr>\n    <tr>\n      <th>3998316</th>\n      <td>1598</td>\n      <td>119.84</td>\n      <td>NaN</td>\n      <td>turning</td>\n      <td>turning9_12-12-23.xlsx</td>\n      <td>D</td>\n      <td>T</td>\n      <td>12-12-23</td>\n    </tr>\n    <tr>\n      <th>3998317</th>\n      <td>1599</td>\n      <td>119.92</td>\n      <td>NaN</td>\n      <td>turning</td>\n      <td>turning9_12-12-23.xlsx</td>\n      <td>D</td>\n      <td>T</td>\n      <td>12-12-23</td>\n    </tr>\n    <tr>\n      <th>3998318</th>\n      <td>1600</td>\n      <td>120.00</td>\n      <td>NaN</td>\n      <td>turning</td>\n      <td>turning9_12-12-23.xlsx</td>\n      <td>D</td>\n      <td>T</td>\n      <td>12-12-23</td>\n    </tr>\n    <tr>\n      <th>3998319</th>\n      <td>1601</td>\n      <td>120.07</td>\n      <td>NaN</td>\n      <td>turning</td>\n      <td>turning9_12-12-23.xlsx</td>\n      <td>D</td>\n      <td>T</td>\n      <td>12-12-23</td>\n    </tr>\n  </tbody>\n</table>\n<p>3998320 rows × 8 columns</p>\n</div>"
     },
     "execution_count": 31,
     "metadata": {},
     "output_type": "execute_result"
    }
   ],
   "source": [
    "import pandas as pd\n",
    "\n",
    "m_df = pd.read_csv('m_df(12-05-23 to 12-13-23).csv', low_memory=False)\n",
    "\n",
    "m_df"
   ],
   "metadata": {
    "collapsed": false,
    "ExecuteTime": {
     "end_time": "2024-01-04T02:19:01.149449300Z",
     "start_time": "2024-01-04T02:18:53.808488500Z"
    }
   },
   "id": "b8abd94d635959d7"
  },
  {
   "cell_type": "code",
   "execution_count": 63,
   "outputs": [
    {
     "name": "stdout",
     "output_type": "stream",
     "text": [
      "breaker: 528480\n",
      "clean: 306204\n",
      "green: 682160\n",
      "red_bruised: 206784\n",
      "red: 511984\n",
      "spoiled: 157680\n",
      "turning: 307500\n"
     ]
    }
   ],
   "source": [
    "dates_with_clean = list(m_df[m_df['data_label'] == 'clean']['date_collected'].unique())\n",
    "data_frame_filtered_with_dates = m_df[m_df['date_collected'].isin(dates_with_clean)]\n",
    "\n",
    "data_frame_drop_conditions = data_frame_filtered_with_dates[data_frame_filtered_with_dates['sensor_label'] == 'C']\n",
    "data_frame_drop_conditions = data_frame_drop_conditions[data_frame_drop_conditions['date_collected'] == '12-12-23']\n",
    "\n",
    "data_frame_filtered_with_dates = data_frame_filtered_with_dates.drop(data_frame_drop_conditions.index)\n",
    "\n",
    "\n",
    "data_label_filtered_with_dates = list(data_frame_filtered_with_dates['data_label'].unique())\n",
    "\n",
    "for i in data_label_filtered_with_dates:\n",
    "    print(f'{i}: {len(data_frame_filtered_with_dates[data_frame_filtered_with_dates[\"data_label\"] == i])}')"
   ],
   "metadata": {
    "collapsed": false,
    "ExecuteTime": {
     "end_time": "2024-01-04T03:11:30.670151400Z",
     "start_time": "2024-01-04T03:11:25.018328200Z"
    }
   },
   "id": "287df85725a35641"
  },
  {
   "cell_type": "code",
   "execution_count": 62,
   "outputs": [
    {
     "name": "stdout",
     "output_type": "stream",
     "text": [
      "breaker: 528480\n",
      "clean: 331840\n",
      "green: 682160\n",
      "red_bruised: 206784\n",
      "red: 614432\n",
      "spoiled: 210240\n",
      "turning: 410000\n"
     ]
    }
   ],
   "source": [
    "dates_with_clean = list(m_df[m_df['data_label'] == 'clean']['date_collected'].unique())\n",
    "data_frame_filtered_with_dates = m_df[m_df['date_collected'].isin(dates_with_clean)]\n",
    "\n",
    "# data_frame_drop_conditions = data_frame_filtered_with_dates[data_frame_filtered_with_dates['sensor_label'] == 'C']\n",
    "# data_frame_drop_conditions = data_frame_drop_conditions[data_frame_drop_conditions['date_collected'] == '12-12-23']\n",
    "# \n",
    "# data_frame_filtered_with_dates = data_frame_filtered_with_dates.drop(data_frame_drop_conditions.index)\n",
    "\n",
    "\n",
    "data_label_filtered_with_dates = list(data_frame_filtered_with_dates['data_label'].unique())\n",
    "\n",
    "for i in data_label_filtered_with_dates:\n",
    "    print(f'{i}: {len(data_frame_filtered_with_dates[data_frame_filtered_with_dates[\"data_label\"] == i])}')"
   ],
   "metadata": {
    "collapsed": false,
    "ExecuteTime": {
     "end_time": "2024-01-04T03:11:21.656086800Z",
     "start_time": "2024-01-04T03:11:16.898514900Z"
    }
   },
   "id": "9d4f5ed3e913d3ba"
  },
  {
   "cell_type": "code",
   "execution_count": 65,
   "outputs": [
    {
     "name": "stdout",
     "output_type": "stream",
     "text": [
      "breaker: 0\n",
      "clean: 25636\n",
      "green: 0\n",
      "red_bruised: 0\n",
      "red: 102448\n",
      "spoiled: 52560\n",
      "turning: 102500\n"
     ]
    }
   ],
   "source": [
    "# old\n",
    "# breaker: 528480\n",
    "# clean: 331840\n",
    "# green: 682160\n",
    "# red_bruised: 206784\n",
    "# red: 614432\n",
    "# spoiled: 210240\n",
    "# turning: 410000\n",
    "# \n",
    "# new\n",
    "# breaker: 528480\n",
    "# clean: 306204\n",
    "# green: 682160\n",
    "# red_bruised: 206784\n",
    "# red: 511984\n",
    "# spoiled: 157680\n",
    "# turning: 307500\n",
    "\n",
    "print(f\"breaker: {528480 - 528480}\\n\"\n",
    "      f\"clean: {331840 - 306204}\\n\"\n",
    "      f\"green: {682160 - 682160}\\n\"\n",
    "      f\"red_bruised: {206784 - 206784}\\n\"\n",
    "      f\"red: {614432 - 511984}\\n\"\n",
    "      f\"spoiled: {210240 - 157680}\\n\"\n",
    "      f\"turning: {410000 - 307500}\")\n"
   ],
   "metadata": {
    "collapsed": false,
    "ExecuteTime": {
     "end_time": "2024-01-04T03:14:48.301336900Z",
     "start_time": "2024-01-04T03:14:48.259461400Z"
    }
   },
   "id": "373cb202cb43476c"
  },
  {
   "cell_type": "code",
   "execution_count": 25,
   "outputs": [
    {
     "name": "stdout",
     "output_type": "stream",
     "text": [
      "breaker: 20\n",
      "clean: 12\n",
      "green: 24\n",
      "red_bruised: 8\n",
      "red: 24\n",
      "spoiled: 8\n",
      "turning: 16\n"
     ]
    }
   ],
   "source": [
    "data_label_filtered_with_dates = list(data_frame_filtered_with_dates['data_label'].unique())\n",
    "\n",
    "for i in data_label_filtered_with_dates:\n",
    "    counting_variable = 0\n",
    "    for j in data_frame_filtered_with_dates['file_origin'].unique():\n",
    "        if i in j:\n",
    "            counting_variable += 1\n",
    "    \n",
    "    if i == 'red_bruised':\n",
    "        counting_variable = len(data_frame_filtered_with_dates[data_frame_filtered_with_dates['data_label'] == 'red_bruised']['file_origin'].unique())\n",
    "    \n",
    "    print(f'{i}: {counting_variable}')"
   ],
   "metadata": {
    "collapsed": false,
    "ExecuteTime": {
     "end_time": "2024-01-04T01:44:14.935802300Z",
     "start_time": "2024-01-04T01:44:10.820831900Z"
    }
   },
   "id": "f2707198ae72bae1"
  },
  {
   "cell_type": "code",
   "execution_count": 44,
   "outputs": [
    {
     "name": "stderr",
     "output_type": "stream",
     "text": [
      "C:\\Users\\jsonf\\AppData\\Local\\Temp\\ipykernel_3604\\2902982551.py:2: UserWarning: Boolean Series key will be reindexed to match DataFrame index.\n",
      "  m_df[m_df[\"date_collected\"] == '12-05-23'][m_df[\"value\"] == max_value].iloc[0]\n"
     ]
    },
    {
     "data": {
      "text/plain": "Unnamed: 0                       890\ntime                            53.3\nvalue                           15.0\ndata_label                       red\nfile_origin       Red1_12-05-23.xlsx\nsensor_label                       C\nsensor_number                      0\ndate_collected              12-05-23\nName: 2147937, dtype: object"
     },
     "execution_count": 44,
     "metadata": {},
     "output_type": "execute_result"
    }
   ],
   "source": [
    "max_value = m_df[m_df[\"date_collected\"] == '12-05-23']['value'].min()\n",
    "m_df[m_df[\"date_collected\"] == '12-05-23'][m_df[\"value\"] == max_value].iloc[0]"
   ],
   "metadata": {
    "collapsed": false,
    "ExecuteTime": {
     "end_time": "2024-01-04T02:29:43.043286700Z",
     "start_time": "2024-01-04T02:29:41.559190700Z"
    }
   },
   "id": "42d91a565d695545"
  },
  {
   "cell_type": "code",
   "execution_count": 56,
   "outputs": [
    {
     "data": {
      "text/plain": "        Unnamed: 0    time  value data_label              file_origin  \\\n249895           0    0.10  183.0    breaker  breaker10_12-11-23.xlsx   \n249896           1    0.17  183.0    breaker  breaker10_12-11-23.xlsx   \n249897           2    0.25  183.0    breaker  breaker10_12-11-23.xlsx   \n249898           3    0.32  183.0    breaker  breaker10_12-11-23.xlsx   \n249899           4    0.40  183.0    breaker  breaker10_12-11-23.xlsx   \n...            ...     ...    ...        ...                      ...   \n499785        1597  126.57  175.0    turning   turning9_12-12-23.xlsx   \n499786        1598  126.65  176.0    turning   turning9_12-12-23.xlsx   \n499787        1599  126.73  176.0    turning   turning9_12-12-23.xlsx   \n499788        1600  126.81  176.0    turning   turning9_12-12-23.xlsx   \n499789        1601  126.89  176.0    turning   turning9_12-12-23.xlsx   \n\n       sensor_label sensor_number date_collected  \n249895            A             1       12-11-23  \n249896            A             1       12-11-23  \n249897            A             1       12-11-23  \n249898            A             1       12-11-23  \n249899            A             1       12-11-23  \n...             ...           ...            ...  \n499785            A             1       12-12-23  \n499786            A             1       12-12-23  \n499787            A             1       12-12-23  \n499788            A             1       12-12-23  \n499789            A             1       12-12-23  \n\n[249895 rows x 8 columns]",
      "text/html": "<div>\n<style scoped>\n    .dataframe tbody tr th:only-of-type {\n        vertical-align: middle;\n    }\n\n    .dataframe tbody tr th {\n        vertical-align: top;\n    }\n\n    .dataframe thead th {\n        text-align: right;\n    }\n</style>\n<table border=\"1\" class=\"dataframe\">\n  <thead>\n    <tr style=\"text-align: right;\">\n      <th></th>\n      <th>Unnamed: 0</th>\n      <th>time</th>\n      <th>value</th>\n      <th>data_label</th>\n      <th>file_origin</th>\n      <th>sensor_label</th>\n      <th>sensor_number</th>\n      <th>date_collected</th>\n    </tr>\n  </thead>\n  <tbody>\n    <tr>\n      <th>249895</th>\n      <td>0</td>\n      <td>0.10</td>\n      <td>183.0</td>\n      <td>breaker</td>\n      <td>breaker10_12-11-23.xlsx</td>\n      <td>A</td>\n      <td>1</td>\n      <td>12-11-23</td>\n    </tr>\n    <tr>\n      <th>249896</th>\n      <td>1</td>\n      <td>0.17</td>\n      <td>183.0</td>\n      <td>breaker</td>\n      <td>breaker10_12-11-23.xlsx</td>\n      <td>A</td>\n      <td>1</td>\n      <td>12-11-23</td>\n    </tr>\n    <tr>\n      <th>249897</th>\n      <td>2</td>\n      <td>0.25</td>\n      <td>183.0</td>\n      <td>breaker</td>\n      <td>breaker10_12-11-23.xlsx</td>\n      <td>A</td>\n      <td>1</td>\n      <td>12-11-23</td>\n    </tr>\n    <tr>\n      <th>249898</th>\n      <td>3</td>\n      <td>0.32</td>\n      <td>183.0</td>\n      <td>breaker</td>\n      <td>breaker10_12-11-23.xlsx</td>\n      <td>A</td>\n      <td>1</td>\n      <td>12-11-23</td>\n    </tr>\n    <tr>\n      <th>249899</th>\n      <td>4</td>\n      <td>0.40</td>\n      <td>183.0</td>\n      <td>breaker</td>\n      <td>breaker10_12-11-23.xlsx</td>\n      <td>A</td>\n      <td>1</td>\n      <td>12-11-23</td>\n    </tr>\n    <tr>\n      <th>...</th>\n      <td>...</td>\n      <td>...</td>\n      <td>...</td>\n      <td>...</td>\n      <td>...</td>\n      <td>...</td>\n      <td>...</td>\n      <td>...</td>\n    </tr>\n    <tr>\n      <th>499785</th>\n      <td>1597</td>\n      <td>126.57</td>\n      <td>175.0</td>\n      <td>turning</td>\n      <td>turning9_12-12-23.xlsx</td>\n      <td>A</td>\n      <td>1</td>\n      <td>12-12-23</td>\n    </tr>\n    <tr>\n      <th>499786</th>\n      <td>1598</td>\n      <td>126.65</td>\n      <td>176.0</td>\n      <td>turning</td>\n      <td>turning9_12-12-23.xlsx</td>\n      <td>A</td>\n      <td>1</td>\n      <td>12-12-23</td>\n    </tr>\n    <tr>\n      <th>499787</th>\n      <td>1599</td>\n      <td>126.73</td>\n      <td>176.0</td>\n      <td>turning</td>\n      <td>turning9_12-12-23.xlsx</td>\n      <td>A</td>\n      <td>1</td>\n      <td>12-12-23</td>\n    </tr>\n    <tr>\n      <th>499788</th>\n      <td>1600</td>\n      <td>126.81</td>\n      <td>176.0</td>\n      <td>turning</td>\n      <td>turning9_12-12-23.xlsx</td>\n      <td>A</td>\n      <td>1</td>\n      <td>12-12-23</td>\n    </tr>\n    <tr>\n      <th>499789</th>\n      <td>1601</td>\n      <td>126.89</td>\n      <td>176.0</td>\n      <td>turning</td>\n      <td>turning9_12-12-23.xlsx</td>\n      <td>A</td>\n      <td>1</td>\n      <td>12-12-23</td>\n    </tr>\n  </tbody>\n</table>\n<p>249895 rows × 8 columns</p>\n</div>"
     },
     "execution_count": 56,
     "metadata": {},
     "output_type": "execute_result"
    }
   ],
   "source": [
    "frame_filtered_by_sensor_label = m_df[m_df[\"sensor_label\"] == 'A']\n",
    "frame_filtered_by_sensor_number = frame_filtered_by_sensor_label[  frame_filtered_by_sensor_label[\"sensor_number\"] == \"1\"]\n",
    "frame_filtered_by_sensor_number"
   ],
   "metadata": {
    "collapsed": false,
    "ExecuteTime": {
     "end_time": "2024-01-04T02:41:41.647807800Z",
     "start_time": "2024-01-04T02:41:40.385161600Z"
    }
   },
   "id": "525f30b473c96b95"
  },
  {
   "cell_type": "code",
   "execution_count": 60,
   "outputs": [
    {
     "name": "stdout",
     "output_type": "stream",
     "text": [
      "12-09-23:\n",
      "max value:\n",
      "\tclean: 402\n",
      "Unnamed: 0                           0\n",
      "time                              0.03\n",
      "value                            212.0\n",
      "data_label                       clean\n",
      "file_origin       clean1_12-09-23.xlsx\n",
      "sensor_label                         A\n",
      "sensor_number                        1\n",
      "date_collected                12-09-23\n",
      "Name: 306245, dtype: object\n",
      "\n",
      "\n",
      "min value:\n",
      "\tbreaker: 788\n",
      "Unnamed: 0                            14\n",
      "time                                1.06\n",
      "value                              171.0\n",
      "data_label                       breaker\n",
      "file_origin       breaker1_12-09-23.xlsx\n",
      "sensor_label                           A\n",
      "sensor_number                          1\n",
      "date_collected                  12-09-23\n",
      "Name: 270192, dtype: object\n",
      "\n",
      "\n",
      "12-11-23:\n",
      "max value:\n",
      "        Unnamed: 0   time  value data_label  \\\n",
      "314728         956  73.97  376.0      clean   \n",
      "\n",
      "                               file_origin sensor_label sensor_number  \\\n",
      "314728  cleannobarriernotray_12-11-23.xlsx            A             1   \n",
      "\n",
      "       date_collected  \n",
      "314728       12-11-23  \n",
      "\n",
      "\n",
      "min value:\n",
      "\tred: 363\n",
      "Unnamed: 0                       310\n",
      "time                           24.32\n",
      "value                          169.0\n",
      "data_label                       red\n",
      "file_origin       red5_12-11-23.xlsx\n",
      "sensor_label                       A\n",
      "sensor_number                      1\n",
      "date_collected              12-11-23\n",
      "Name: 422872, dtype: object\n",
      "\n",
      "\n",
      "12-12-23:\n",
      "max value:\n",
      "\tclean: 52\n",
      "Unnamed: 0                                         0\n",
      "time                                            0.03\n",
      "value                                          249.0\n",
      "data_label                                     clean\n",
      "file_origin       cleannobarriernotray_12-12-23.xlsx\n",
      "sensor_label                                       A\n",
      "sensor_number                                      1\n",
      "date_collected                              12-12-23\n",
      "Name: 315710, dtype: object\n",
      "\n",
      "\n",
      "min value:\n",
      "        Unnamed: 0    time  value data_label          file_origin  \\\n",
      "391053        1276  100.54  140.0        red  red12_12-12-23.xlsx   \n",
      "\n",
      "       sensor_label sensor_number date_collected  \n",
      "391053            A             1       12-12-23  \n",
      "\n",
      "\n",
      "12-13-23:\n",
      "max value:\n",
      "        Unnamed: 0   time  value data_label  \\\n",
      "317894         582  45.53  207.0      clean   \n",
      "\n",
      "                               file_origin sensor_label sensor_number  \\\n",
      "317894  cleannobarriernotray_12-13-23.xlsx            A             1   \n",
      "\n",
      "       date_collected  \n",
      "317894       12-13-23  \n",
      "\n",
      "\n",
      "min value:\n",
      "\tred_bruised: 64\n",
      "Unnamed: 0                                     908\n",
      "time                                         71.45\n",
      "value                                        171.0\n",
      "data_label                             red_bruised\n",
      "file_origin       orange4daybruised8_12-13-23.xlsx\n",
      "sensor_label                                     A\n",
      "sensor_number                                    1\n",
      "date_collected                            12-13-23\n",
      "Name: 385866, dtype: object\n"
     ]
    }
   ],
   "source": [
    "for i in dates_with_clean:\n",
    "    frame_filtered_by_sensor_label = m_df[m_df[\"sensor_label\"] == 'A']\n",
    "    frame_filtered_by_sensor_number = frame_filtered_by_sensor_label[\n",
    "                                        frame_filtered_by_sensor_label[\"sensor_number\"] == \"1\"]\n",
    "    frame_filtered_by_date = frame_filtered_by_sensor_number[\n",
    "                                        frame_filtered_by_sensor_number[\"date_collected\"] == i]\n",
    "    \n",
    "    max_value = frame_filtered_by_date['value'].max()\n",
    "    min_value = frame_filtered_by_date['value'].min()\n",
    "    \n",
    "    max_value_frame = frame_filtered_by_date[frame_filtered_by_date[\"value\"] == max_value]\n",
    "    min_value_frame = frame_filtered_by_date[frame_filtered_by_date[\"value\"] == min_value]\n",
    "    \n",
    "    print(f'{i}:')\n",
    "    print(\"max value:\")\n",
    "    if len(max_value_frame) > 1:\n",
    "        for j in max_value_frame['data_label'].unique():\n",
    "            print(f'\\t{j}: {len(max_value_frame[max_value_frame[\"data_label\"] == j])}')\n",
    "        print(max_value_frame.iloc[0])\n",
    "    else:\n",
    "        print(max_value_frame)\n",
    "    print('\\n')\n",
    "    print(\"min value:\")\n",
    "    if len(min_value_frame) > 1:\n",
    "        for j in min_value_frame['data_label'].unique():\n",
    "            print(f'\\t{j}: {len(min_value_frame[min_value_frame[\"data_label\"] == j])}')\n",
    "        print(min_value_frame.iloc[0])\n",
    "    else:\n",
    "        print(min_value_frame)\n",
    "    print(f'\\n\\n')"
   ],
   "metadata": {
    "collapsed": false,
    "ExecuteTime": {
     "end_time": "2024-01-04T02:46:40.256925700Z",
     "start_time": "2024-01-04T02:46:36.894995900Z"
    }
   },
   "id": "1d5e448d2daffdab"
  }
 ],
 "metadata": {
  "kernelspec": {
   "display_name": "Python 3",
   "language": "python",
   "name": "python3"
  },
  "language_info": {
   "codemirror_mode": {
    "name": "ipython",
    "version": 2
   },
   "file_extension": ".py",
   "mimetype": "text/x-python",
   "name": "python",
   "nbconvert_exporter": "python",
   "pygments_lexer": "ipython2",
   "version": "2.7.6"
  }
 },
 "nbformat": 4,
 "nbformat_minor": 5
}
